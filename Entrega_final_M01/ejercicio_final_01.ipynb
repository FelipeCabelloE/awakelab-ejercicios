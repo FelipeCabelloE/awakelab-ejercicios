{
 "cells": [
  {
   "attachments": {},
   "cell_type": "markdown",
   "metadata": {},
   "source": [
    "# Ejercicio final modulo 1"
   ]
  },
  {
   "attachments": {},
   "cell_type": "markdown",
   "metadata": {},
   "source": [
    "Crear un algoritmo que:\n",
    "\n",
    "1. Reciba los dos ultimos números de la placa y el número n de vehículos a procesar (input)\n",
    "2. Muestre la cantidad de placas de cada color de vehículo que es neceario fabricar y reemplazar (output)\n",
    "\n",
    "\n",
    "## Nota\n",
    "\n",
    "Se usó el match statement que es valido en python 3.10"
   ]
  },
  {
   "cell_type": "code",
   "execution_count": 10,
   "metadata": {},
   "outputs": [],
   "source": [
    "# crear una funcion que tome los dos ultimos números de metriucla y entrege cuantas matriculas hay que crear de cada color\n",
    "\n",
    "def matriculas_a_reemplazar(lista_matriculas: list[str | list[int]]) -> dict[str, int]:\n",
    "    \"\"\"\n",
    "    Funcion que toma los dos ultimos numeros de la matricula y entrege cuantas matriculas hay que crear de cada color\n",
    "    \n",
    "    :param lista_matriculas: lista de matriculas (puede ser una lsita de strings o una lista de listas con los dos ultimos numeros)\n",
    "    :return: diccionario con la cantidad de matriculas a reemplazar\n",
    "    \"\"\"\n",
    "    # se crea el diccionario que va a contener la cantidad de matriculas a reemplazar\n",
    "    matriculas_a_reemplazar = {'amarillo': 0, 'cafe': 0, 'rojo': 0, 'azul': 0, 'verde': 0}\n",
    "    \n",
    "    for matricula in lista_matriculas:\n",
    "        # check that the lenght of matricula is 2\n",
    "        if isinstance(matricula, str):\n",
    "            primer_numero = int(matricula[0])\n",
    "            segundo_numero = int(matricula[1])\n",
    "            matricula = [primer_numero, segundo_numero]\n",
    "        if matricula is None:\n",
    "            raise ValueError('Matricula no valida')\n",
    "        # chequear que el larog sea de dos digitos\n",
    "        if len(matricula) != 2:\n",
    "            raise ValueError('Hay una matricula con mas o menos de dos digitos')\n",
    "        # check that the last number is between 0 and 9\n",
    "        if not 0 <= matricula[-1] <= 9:\n",
    "            raise ValueError('Matricula no valida')\n",
    "        # match statement para agregar un numero a la cantidad de matriculas a reemplazar\n",
    "        match matricula[-1]:\n",
    "            case 1 | 2:\n",
    "                matriculas_a_reemplazar['amarillo'] += 1\n",
    "            case 3 | 4:\n",
    "                matriculas_a_reemplazar['cafe'] += 1\n",
    "            case 5 | 6:\n",
    "                matriculas_a_reemplazar['rojo'] += 1\n",
    "            case 7 | 8:\n",
    "                matriculas_a_reemplazar['azul'] += 1\n",
    "            case 9 | 0:\n",
    "                matriculas_a_reemplazar['verde'] += 1\n",
    "            case _:\n",
    "                pass\n",
    "    # se imprimer el número de matriculas a reemplazar\n",
    "    for color, cantidad in matriculas_a_reemplazar.items():\n",
    "        print(f'Se requieren {cantidad} matriculas de color {color}')\n",
    "    return matriculas_a_reemplazar"
   ]
  },
  {
   "cell_type": "code",
   "execution_count": 14,
   "metadata": {},
   "outputs": [
    {
     "name": "stdout",
     "output_type": "stream",
     "text": [
      "Se requieren 5 matriculas de color amarillo\n",
      "Se requieren 6 matriculas de color cafe\n",
      "Se requieren 4 matriculas de color rojo\n",
      "Se requieren 4 matriculas de color azul\n",
      "Se requieren 4 matriculas de color verde\n"
     ]
    },
    {
     "data": {
      "text/plain": [
       "{'amarillo': 5, 'cafe': 6, 'rojo': 4, 'azul': 4, 'verde': 4}"
      ]
     },
     "execution_count": 14,
     "metadata": {},
     "output_type": "execute_result"
    }
   ],
   "source": [
    "matriculas_a_reemplazar(['01', '03', '03', '04', '05', '06', '07', '08', '09', '10', '11', '12', '13', '14', '15', '16', '17', '18', '19', '20', '21', '22', '23'])\n",
    "\n",
    "\n",
    "# In[ ]:"
   ]
  },
  {
   "cell_type": "code",
   "execution_count": null,
   "metadata": {},
   "outputs": [],
   "source": []
  }
 ],
 "metadata": {
  "kernelspec": {
   "display_name": ".venv",
   "language": "python",
   "name": "python3"
  },
  "language_info": {
   "codemirror_mode": {
    "name": "ipython",
    "version": 3
   },
   "file_extension": ".py",
   "mimetype": "text/x-python",
   "name": "python",
   "nbconvert_exporter": "python",
   "pygments_lexer": "ipython3",
   "version": "3.10.11"
  },
  "orig_nbformat": 4
 },
 "nbformat": 4,
 "nbformat_minor": 2
}
