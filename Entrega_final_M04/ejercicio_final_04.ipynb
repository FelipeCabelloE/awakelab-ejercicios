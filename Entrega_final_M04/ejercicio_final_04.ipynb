{
 "cells": [
  {
   "cell_type": "code",
   "execution_count": null,
   "metadata": {},
   "outputs": [],
   "source": []
  },
  {
   "attachments": {},
   "cell_type": "markdown",
   "metadata": {},
   "source": [
    "1.- Cierta compañía aérea ha requerido de sus servicios profesionales para llevar a\n",
    "cabo un estudio relacionado con la cantidad de pasajeros que llegan al país en\n",
    "\n",
    "vuelos internacionales, dicho estudio tiene relación con la enfermedad de COVID-\n",
    "19. De acuerdo a la información que maneja la compañía, la cantidad de pasajeros\n",
    "\n",
    "que llegan en vuelos internacionales se comporta aproximadamente normal con\n",
    "una media de 120 pasajeros y una varianza de 25.\n",
    "a. Asumiendo que cada día llegan a Santiago 16 vuelos internacionales,\n",
    "determine la probabilidad de que durante el año (52 semanas) la cantidad\n",
    "total de pasajeros sea de al menos de 699500.\n",
    "b. De acuerdo con registros históricos se sabe que aproximadamente un 7%\n",
    "de los pasajeros son niños. Considerando un potencial de 400 pasajeros que\n",
    "llegarían en los próximos días, determine la probabilidad que menos de un\n",
    "5% sean niños.\n"
   ]
  },
  {
   "cell_type": "code",
   "execution_count": 1,
   "metadata": {},
   "outputs": [],
   "source": [
    "import numpy as np\n",
    "import pandas as pd\n",
    "from scipy import stats"
   ]
  },
  {
   "cell_type": "code",
   "execution_count": 3,
   "metadata": {},
   "outputs": [
    {
     "name": "stdout",
     "output_type": "stream",
     "text": [
      "n =  5824\n"
     ]
    }
   ],
   "source": [
    "SEMANAS_EN_AGNO = 52\n",
    "DIAS = 7\n",
    "VUELOS_DIA = 16\n",
    "n = SEMANAS_EN_AGNO*DIAS*VUELOS_DIA \n",
    "print(\"n = \", n)"
   ]
  },
  {
   "cell_type": "code",
   "execution_count": 8,
   "metadata": {},
   "outputs": [
    {
     "name": "stdout",
     "output_type": "stream",
     "text": [
      "PASAJEROS_AGNO =  699500\n",
      "PASAJEROS_VUELO =  120.10645604395604\n"
     ]
    }
   ],
   "source": [
    "PASAJEROS_AGNO = 699500\n",
    "print(\"PASAJEROS_AGNO = \", PASAJEROS_AGNO)\n",
    "# PASAJEROS POR VUELOS\n",
    "PASAJEROS_VUELO = PASAJEROS_AGNO/n\n",
    "print(\"PASAJEROS_VUELO = \", PASAJEROS_VUELO)"
   ]
  },
  {
   "cell_type": "code",
   "execution_count": 9,
   "metadata": {},
   "outputs": [],
   "source": [
    "MEDIA = 120\n",
    "DESVIACION_EST = 25\n",
    "\n",
    "DE_MUESTRAL = DESVIACION_EST/np.sqrt(n)\n",
    "\n",
    "p = round(1 - stats.norm.cdf(PASAJEROS_VUELO, loc=MEDIA, scale=DE_MUESTRAL), 5)"
   ]
  },
  {
   "cell_type": "code",
   "execution_count": 11,
   "metadata": {},
   "outputs": [
    {
     "name": "stdout",
     "output_type": "stream",
     "text": [
      "Probabilidad de que MENOS DE UN 5% SEAN NIÑOS:  0.3726\n"
     ]
    }
   ],
   "source": [
    "print(\"Probabilidad de que MENOS DE UN 5% SEAN NIÑOS: \", p)"
   ]
  },
  {
   "attachments": {},
   "cell_type": "markdown",
   "metadata": {},
   "source": [
    "2.- Una empresa que se dedica a hacer en cuestas se queja de que un agente\n",
    "realiza en promedio 53 encuestas por semana. Se ha introducido una forma más\n",
    "moderna de realizar las encuestas y la empresa quiere evaluar su efectividad. Los\n",
    "números de encuestas realizadas en una semana por una muestra aleatoria de\n",
    "agentes son:\n",
    "53 57 50 55 58 54 60 52 59 62\n",
    "60 60 51 59\n",
    "\n",
    "En el nivel de significancia 0,05, puede concluirse que la cantidad media de\n",
    "entrevistas\n",
    "realizadas por los agentes es superior a 53 por semana? Evalúe el valor p."
   ]
  },
  {
   "cell_type": "code",
   "execution_count": 13,
   "metadata": {},
   "outputs": [
    {
     "name": "stdout",
     "output_type": "stream",
     "text": [
      "Rechaza hipótesis nula.\n",
      "Hay evidencias para afirmar que la media de entrevistas es superior a 53 semanales\n",
      "p-value: 0.00283\n"
     ]
    }
   ],
   "source": [
    "encuestas = [53,57,50,55,58,54,60,52,59,62,60,60,51,59]\n",
    "\n",
    "null_value = 53\n",
    "alpha = 0.05\n",
    "\n",
    "#obtención p-value\n",
    "p_value = stats.ttest_1samp(\n",
    "    encuestas, null_value, alternative='greater')[1]\n",
    "\n",
    "\n",
    "# p-value v/s significancia\n",
    "if p_value < alpha:\n",
    "    print(\"Rechaza hipótesis nula.\\n\" +\n",
    "          \"Hay evidencias para afirmar que la media de entrevistas es superior a 53 semanales\")\n",
    "else:\n",
    "    print(\"No se rechaza la hipótesis nula\")\n",
    "\n",
    "# Imprimir p-value\n",
    "print(\"p-value:\", round(p_value,5))\n"
   ]
  },
  {
   "cell_type": "code",
   "execution_count": null,
   "metadata": {},
   "outputs": [],
   "source": []
  }
 ],
 "metadata": {
  "kernelspec": {
   "display_name": ".venv",
   "language": "python",
   "name": "python3"
  },
  "language_info": {
   "codemirror_mode": {
    "name": "ipython",
    "version": 3
   },
   "file_extension": ".py",
   "mimetype": "text/x-python",
   "name": "python",
   "nbconvert_exporter": "python",
   "pygments_lexer": "ipython3",
   "version": "3.11.3"
  },
  "orig_nbformat": 4
 },
 "nbformat": 4,
 "nbformat_minor": 2
}
