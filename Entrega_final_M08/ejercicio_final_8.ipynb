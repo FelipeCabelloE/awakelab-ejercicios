{
  "nbformat": 4,
  "nbformat_minor": 0,
  "metadata": {
    "colab": {
      "provenance": [],
      "gpuType": "T4"
    },
    "kernelspec": {
      "name": "python3",
      "display_name": "Python 3"
    },
    "language_info": {
      "name": "python"
    },
    "accelerator": "GPU"
  },
  "cells": [
    {
      "cell_type": "code",
      "source": [
        "!pip install pyspark"
      ],
      "metadata": {
        "colab": {
          "base_uri": "https://localhost:8080/"
        },
        "id": "Ew854Id1ePaG",
        "outputId": "9a001786-e3d2-46d4-c63c-28c90c452cb1"
      },
      "execution_count": 2,
      "outputs": [
        {
          "output_type": "stream",
          "name": "stdout",
          "text": [
            "Looking in indexes: https://pypi.org/simple, https://us-python.pkg.dev/colab-wheels/public/simple/\n",
            "Collecting pyspark\n",
            "  Downloading pyspark-3.4.0.tar.gz (310.8 MB)\n",
            "\u001b[2K     \u001b[90m━━━━━━━━━━━━━━━━━━━━━━━━━━━━━━━━━━━━━━━\u001b[0m \u001b[32m310.8/310.8 MB\u001b[0m \u001b[31m4.8 MB/s\u001b[0m eta \u001b[36m0:00:00\u001b[0m\n",
            "\u001b[?25h  Preparing metadata (setup.py) ... \u001b[?25l\u001b[?25hdone\n",
            "Requirement already satisfied: py4j==0.10.9.7 in /usr/local/lib/python3.10/dist-packages (from pyspark) (0.10.9.7)\n",
            "Building wheels for collected packages: pyspark\n",
            "  Building wheel for pyspark (setup.py) ... \u001b[?25l\u001b[?25hdone\n",
            "  Created wheel for pyspark: filename=pyspark-3.4.0-py2.py3-none-any.whl size=311317130 sha256=94dec606e4c0ba9ca0de45143dc10d5b799ecad1135906b4ccf036b3dc8c7660\n",
            "  Stored in directory: /root/.cache/pip/wheels/7b/1b/4b/3363a1d04368e7ff0d408e57ff57966fcdf00583774e761327\n",
            "Successfully built pyspark\n",
            "Installing collected packages: pyspark\n",
            "Successfully installed pyspark-3.4.0\n"
          ]
        }
      ]
    },
    {
      "cell_type": "code",
      "execution_count": 3,
      "metadata": {
        "id": "_n0JyBKydK41"
      },
      "outputs": [],
      "source": [
        "import numpy as np\n",
        "import matplotlib.pyplot as plt\n",
        "\n",
        "from keras.models import Sequential\n",
        "from keras.layers import Input, Dense\n",
        "from keras.utils import to_categorical\n",
        "from keras.models import Model\n",
        "\n",
        "import warnings\n",
        "warnings.filterwarnings('ignore')\n",
        "\n",
        "import pyspark\n",
        "from pyspark import SparkContext\n",
        "sc =SparkContext()\n",
        "\n",
        "from pyspark import SQLContext\n",
        "sqlContext = SQLContext(sc)\n",
        "from pyspark.sql.functions import col\n",
        "from pyspark.sql import types\n",
        "\n",
        "from pyspark.sql import functions as F\n"
      ]
    },
    {
      "cell_type": "code",
      "source": [
        "df = sqlContext.read.csv(\"2008.csv\", sep = \",\", inferSchema = True, header = True)"
      ],
      "metadata": {
        "id": "URJUX_oNeLVn"
      },
      "execution_count": 19,
      "outputs": []
    },
    {
      "cell_type": "code",
      "source": [
        "df.show(5)"
      ],
      "metadata": {
        "colab": {
          "base_uri": "https://localhost:8080/"
        },
        "id": "opZSZLHaeeHV",
        "outputId": "77cabb9e-16fc-4ceb-da6d-fe0300cb9b5e"
      },
      "execution_count": 20,
      "outputs": [
        {
          "output_type": "stream",
          "name": "stdout",
          "text": [
            "+----+-----+----------+---------+-------+----------+-------+----------+-------------+---------+-------+-----------------+--------------+-------+--------+--------+------+----+--------+------+-------+---------+----------------+--------+------------+------------+--------+-------------+-----------------+\n",
            "|Year|Month|DayofMonth|DayOfWeek|DepTime|CRSDepTime|ArrTime|CRSArrTime|UniqueCarrier|FlightNum|TailNum|ActualElapsedTime|CRSElapsedTime|AirTime|ArrDelay|DepDelay|Origin|Dest|Distance|TaxiIn|TaxiOut|Cancelled|CancellationCode|Diverted|CarrierDelay|WeatherDelay|NASDelay|SecurityDelay|LateAircraftDelay|\n",
            "+----+-----+----------+---------+-------+----------+-------+----------+-------------+---------+-------+-----------------+--------------+-------+--------+--------+------+----+--------+------+-------+---------+----------------+--------+------------+------------+--------+-------------+-----------------+\n",
            "|2008|    1|         3|        4|   1343|      1325|   1451|      1435|           WN|      588| N240WN|               68|            70|     55|      16|      18|   HOU| LIT|     393|     4|      9|        0|            null|       0|          16|           0|       0|            0|                0|\n",
            "|2008|    1|         3|        4|   1125|      1120|   1247|      1245|           WN|     1343| N523SW|               82|            85|     71|       2|       5|   HOU| MAF|     441|     3|      8|        0|            null|       0|          NA|          NA|      NA|           NA|               NA|\n",
            "|2008|    1|         3|        4|   2009|      2015|   2136|      2140|           WN|     3841| N280WN|               87|            85|     71|      -4|      -6|   HOU| MAF|     441|     2|     14|        0|            null|       0|          NA|          NA|      NA|           NA|               NA|\n",
            "|2008|    1|         3|        4|    903|       855|   1203|      1205|           WN|        3| N308SA|              120|           130|    108|      -2|       8|   HOU| MCO|     848|     5|      7|        0|            null|       0|          NA|          NA|      NA|           NA|               NA|\n",
            "|2008|    1|         3|        4|   1423|      1400|   1726|      1710|           WN|       25| N462WN|              123|           130|    107|      16|      23|   HOU| MCO|     848|     6|     10|        0|            null|       0|          16|           0|       0|            0|                0|\n",
            "+----+-----+----------+---------+-------+----------+-------+----------+-------------+---------+-------+-----------------+--------------+-------+--------+--------+------+----+--------+------+-------+---------+----------------+--------+------------+------------+--------+-------------+-----------------+\n",
            "only showing top 5 rows\n",
            "\n"
          ]
        }
      ]
    },
    {
      "cell_type": "code",
      "source": [
        "num_filas = df.count()\n",
        "print(\"----------------------------\")\n",
        "print(\"Número de filas:\", num_filas)\n",
        "\n",
        "\n",
        "# get columns\n",
        "num_columnas = len(df.columns)\n",
        "print(\"Número de columnas:\", num_columnas)\n",
        "print(\"----------------------------\")\n"
      ],
      "metadata": {
        "colab": {
          "base_uri": "https://localhost:8080/"
        },
        "id": "eYDVn53penE6",
        "outputId": "3e1c9c19-0983-46a8-f71d-8e6563cc1112"
      },
      "execution_count": 21,
      "outputs": [
        {
          "output_type": "stream",
          "name": "stdout",
          "text": [
            "----------------------------\n",
            "Número de filas: 2389217\n",
            "Número de columnas: 29\n",
            "----------------------------\n"
          ]
        }
      ]
    },
    {
      "cell_type": "code",
      "source": [
        "df.printSchema()"
      ],
      "metadata": {
        "colab": {
          "base_uri": "https://localhost:8080/"
        },
        "id": "JBwPfOK-eol_",
        "outputId": "a9318312-d31b-490e-f8c1-7cc2d1d0ed51"
      },
      "execution_count": 22,
      "outputs": [
        {
          "output_type": "stream",
          "name": "stdout",
          "text": [
            "root\n",
            " |-- Year: integer (nullable = true)\n",
            " |-- Month: integer (nullable = true)\n",
            " |-- DayofMonth: integer (nullable = true)\n",
            " |-- DayOfWeek: integer (nullable = true)\n",
            " |-- DepTime: string (nullable = true)\n",
            " |-- CRSDepTime: integer (nullable = true)\n",
            " |-- ArrTime: string (nullable = true)\n",
            " |-- CRSArrTime: integer (nullable = true)\n",
            " |-- UniqueCarrier: string (nullable = true)\n",
            " |-- FlightNum: integer (nullable = true)\n",
            " |-- TailNum: string (nullable = true)\n",
            " |-- ActualElapsedTime: string (nullable = true)\n",
            " |-- CRSElapsedTime: string (nullable = true)\n",
            " |-- AirTime: string (nullable = true)\n",
            " |-- ArrDelay: string (nullable = true)\n",
            " |-- DepDelay: string (nullable = true)\n",
            " |-- Origin: string (nullable = true)\n",
            " |-- Dest: string (nullable = true)\n",
            " |-- Distance: integer (nullable = true)\n",
            " |-- TaxiIn: string (nullable = true)\n",
            " |-- TaxiOut: string (nullable = true)\n",
            " |-- Cancelled: integer (nullable = true)\n",
            " |-- CancellationCode: string (nullable = true)\n",
            " |-- Diverted: integer (nullable = true)\n",
            " |-- CarrierDelay: string (nullable = true)\n",
            " |-- WeatherDelay: string (nullable = true)\n",
            " |-- NASDelay: string (nullable = true)\n",
            " |-- SecurityDelay: string (nullable = true)\n",
            " |-- LateAircraftDelay: string (nullable = true)\n",
            "\n"
          ]
        }
      ]
    },
    {
      "cell_type": "code",
      "source": [
        "\n",
        "columnas = df.columns\n",
        "\n",
        "# Revisar las cantidad de filas con NA para cada columna\n",
        "#============================================================================\n",
        "col_drop = []\n",
        "for columna in columnas:\n",
        "    df_na = df.filter(col(columna).isNull()).count()\n",
        "    if df_na > 0:\n",
        "        col_drop.append(columna) # agregar a la lista de columnas a eliminar\n",
        "        print(f\"Filas con valores nulos en la columna '{columna}': {df_na}\")\n",
        "\n",
        "\n",
        "# drop rows with NA\n",
        "print (\"----------------------------\")\n",
        "print (\"Eliminando filas con valores nulos...\", col_drop)\n",
        "\n",
        "df_clean = df = df.drop(*col_drop)\n",
        "print(df_clean.columns)"
      ],
      "metadata": {
        "colab": {
          "base_uri": "https://localhost:8080/"
        },
        "id": "zqGJut-ceq7K",
        "outputId": "8f04f8d9-c11e-4928-a2da-0f11c8159f3a"
      },
      "execution_count": 23,
      "outputs": [
        {
          "output_type": "stream",
          "name": "stdout",
          "text": [
            "Filas con valores nulos en la columna 'TailNum': 42452\n",
            "Filas con valores nulos en la columna 'CancellationCode': 2324775\n",
            "----------------------------\n",
            "Eliminando filas con valores nulos... ['TailNum', 'CancellationCode']\n",
            "['Year', 'Month', 'DayofMonth', 'DayOfWeek', 'DepTime', 'CRSDepTime', 'ArrTime', 'CRSArrTime', 'UniqueCarrier', 'FlightNum', 'ActualElapsedTime', 'CRSElapsedTime', 'AirTime', 'ArrDelay', 'DepDelay', 'Origin', 'Dest', 'Distance', 'TaxiIn', 'TaxiOut', 'Cancelled', 'Diverted', 'CarrierDelay', 'WeatherDelay', 'NASDelay', 'SecurityDelay', 'LateAircraftDelay']\n"
          ]
        }
      ]
    },
    {
      "cell_type": "code",
      "source": [
        "columnas = df_clean.columns\n",
        "# check rows with NA as string\n",
        "for columna in columnas:\n",
        "    df_na = df_clean.filter(col(columna).like(\"%NA%\")).count()\n",
        "    if df_na > 0:\n",
        "        print(f\"Filas con valores nulos como texto en la columna '{columna}': {df_na}\")\n"
      ],
      "metadata": {
        "colab": {
          "base_uri": "https://localhost:8080/"
        },
        "id": "NooHsqFuesg6",
        "outputId": "a01f1a39-01e9-4d42-88f9-02afdd58ad8a"
      },
      "execution_count": 24,
      "outputs": [
        {
          "output_type": "stream",
          "name": "stdout",
          "text": [
            "Filas con valores nulos como texto en la columna 'DepTime': 64442\n",
            "Filas con valores nulos como texto en la columna 'ArrTime': 70096\n",
            "Filas con valores nulos como texto en la columna 'ActualElapsedTime': 70096\n",
            "Filas con valores nulos como texto en la columna 'CRSElapsedTime': 407\n",
            "Filas con valores nulos como texto en la columna 'AirTime': 70096\n",
            "Filas con valores nulos como texto en la columna 'ArrDelay': 70096\n",
            "Filas con valores nulos como texto en la columna 'DepDelay': 64442\n",
            "Filas con valores nulos como texto en la columna 'Origin': 40481\n",
            "Filas con valores nulos como texto en la columna 'Dest': 40497\n",
            "Filas con valores nulos como texto en la columna 'TaxiIn': 70096\n",
            "Filas con valores nulos como texto en la columna 'TaxiOut': 64442\n",
            "Filas con valores nulos como texto en la columna 'CarrierDelay': 1804634\n",
            "Filas con valores nulos como texto en la columna 'WeatherDelay': 1804634\n",
            "Filas con valores nulos como texto en la columna 'NASDelay': 1804634\n",
            "Filas con valores nulos como texto en la columna 'SecurityDelay': 1804634\n",
            "Filas con valores nulos como texto en la columna 'LateAircraftDelay': 1804634\n"
          ]
        }
      ]
    },
    {
      "cell_type": "code",
      "source": [
        "columnas = ['ActualElapsedTime', 'Dest']\n",
        "\n",
        "# check rows with NA as string\n",
        "for columna in columnas:\n",
        "    if df_clean.schema[columna].dataType == 'string':\n",
        "        df_clean = df_clean.filter(~col(columna).like(\"%NA%\"))\n",
        "\n",
        "df_clean.show(5)"
      ],
      "metadata": {
        "colab": {
          "base_uri": "https://localhost:8080/"
        },
        "id": "u6gx3A7SeuSP",
        "outputId": "a222a8ea-86c7-458f-d5cc-7236f4d3fde9"
      },
      "execution_count": 25,
      "outputs": [
        {
          "output_type": "stream",
          "name": "stdout",
          "text": [
            "+----+-----+----------+---------+-------+----------+-------+----------+-------------+---------+-----------------+--------------+-------+--------+--------+------+----+--------+------+-------+---------+--------+------------+------------+--------+-------------+-----------------+\n",
            "|Year|Month|DayofMonth|DayOfWeek|DepTime|CRSDepTime|ArrTime|CRSArrTime|UniqueCarrier|FlightNum|ActualElapsedTime|CRSElapsedTime|AirTime|ArrDelay|DepDelay|Origin|Dest|Distance|TaxiIn|TaxiOut|Cancelled|Diverted|CarrierDelay|WeatherDelay|NASDelay|SecurityDelay|LateAircraftDelay|\n",
            "+----+-----+----------+---------+-------+----------+-------+----------+-------------+---------+-----------------+--------------+-------+--------+--------+------+----+--------+------+-------+---------+--------+------------+------------+--------+-------------+-----------------+\n",
            "|2008|    1|         3|        4|   1343|      1325|   1451|      1435|           WN|      588|               68|            70|     55|      16|      18|   HOU| LIT|     393|     4|      9|        0|       0|          16|           0|       0|            0|                0|\n",
            "|2008|    1|         3|        4|   1125|      1120|   1247|      1245|           WN|     1343|               82|            85|     71|       2|       5|   HOU| MAF|     441|     3|      8|        0|       0|          NA|          NA|      NA|           NA|               NA|\n",
            "|2008|    1|         3|        4|   2009|      2015|   2136|      2140|           WN|     3841|               87|            85|     71|      -4|      -6|   HOU| MAF|     441|     2|     14|        0|       0|          NA|          NA|      NA|           NA|               NA|\n",
            "|2008|    1|         3|        4|    903|       855|   1203|      1205|           WN|        3|              120|           130|    108|      -2|       8|   HOU| MCO|     848|     5|      7|        0|       0|          NA|          NA|      NA|           NA|               NA|\n",
            "|2008|    1|         3|        4|   1423|      1400|   1726|      1710|           WN|       25|              123|           130|    107|      16|      23|   HOU| MCO|     848|     6|     10|        0|       0|          16|           0|       0|            0|                0|\n",
            "+----+-----+----------+---------+-------+----------+-------+----------+-------------+---------+-----------------+--------------+-------+--------+--------+------+----+--------+------+-------+---------+--------+------------+------------+--------+-------------+-----------------+\n",
            "only showing top 5 rows\n",
            "\n"
          ]
        }
      ]
    },
    {
      "cell_type": "code",
      "source": [
        "df_clean = df_clean.withColumn('ActualElapsedTime', df_clean['ActualElapsedTime'].cast(types.IntegerType()))\n",
        "\n",
        "df_clean.printSchema()"
      ],
      "metadata": {
        "colab": {
          "base_uri": "https://localhost:8080/"
        },
        "id": "jI4Rma26ewIP",
        "outputId": "c934fc00-f76b-4ae1-d778-b54e6a375613"
      },
      "execution_count": 26,
      "outputs": [
        {
          "output_type": "stream",
          "name": "stdout",
          "text": [
            "root\n",
            " |-- Year: integer (nullable = true)\n",
            " |-- Month: integer (nullable = true)\n",
            " |-- DayofMonth: integer (nullable = true)\n",
            " |-- DayOfWeek: integer (nullable = true)\n",
            " |-- DepTime: string (nullable = true)\n",
            " |-- CRSDepTime: integer (nullable = true)\n",
            " |-- ArrTime: string (nullable = true)\n",
            " |-- CRSArrTime: integer (nullable = true)\n",
            " |-- UniqueCarrier: string (nullable = true)\n",
            " |-- FlightNum: integer (nullable = true)\n",
            " |-- ActualElapsedTime: integer (nullable = true)\n",
            " |-- CRSElapsedTime: string (nullable = true)\n",
            " |-- AirTime: string (nullable = true)\n",
            " |-- ArrDelay: string (nullable = true)\n",
            " |-- DepDelay: string (nullable = true)\n",
            " |-- Origin: string (nullable = true)\n",
            " |-- Dest: string (nullable = true)\n",
            " |-- Distance: integer (nullable = true)\n",
            " |-- TaxiIn: string (nullable = true)\n",
            " |-- TaxiOut: string (nullable = true)\n",
            " |-- Cancelled: integer (nullable = true)\n",
            " |-- Diverted: integer (nullable = true)\n",
            " |-- CarrierDelay: string (nullable = true)\n",
            " |-- WeatherDelay: string (nullable = true)\n",
            " |-- NASDelay: string (nullable = true)\n",
            " |-- SecurityDelay: string (nullable = true)\n",
            " |-- LateAircraftDelay: string (nullable = true)\n",
            "\n"
          ]
        }
      ]
    },
    {
      "cell_type": "code",
      "source": [
        "# ¿Cuál es el vuelo más largo? Que unidad de tiempo es más apropiada? De qué depende? Seleccione una.\n",
        "\n",
        "\n",
        "max_vuelo = df_clean.select(F.max(\"ActualElapsedTime\")).first()[0]\n",
        "print(f\"El tiempo máximo de vuelo es: {max_vuelo} minutos\")\n",
        "\n",
        "df_with_hours = df_clean.withColumn(\"ActualElapsedTime_hours\", F.col(\"ActualElapsedTime\") / 60)\n",
        "\n",
        "max_vuelo_hrs = df_with_hours.select(F.max(\"ActualElapsedTime_hours\")).first()[0]\n",
        "print(f\"El tiempo máximo de vuelo es: {max_vuelo_hrs:.2f} horas **\")\n",
        "\n",
        "print(\"A horas...\")"
      ],
      "metadata": {
        "colab": {
          "base_uri": "https://localhost:8080/"
        },
        "id": "t_d71n-8exeO",
        "outputId": "68cf7e80-03ae-4abb-8400-acc58404536e"
      },
      "execution_count": 27,
      "outputs": [
        {
          "output_type": "stream",
          "name": "stdout",
          "text": [
            "El tiempo máximo de vuelo es: 905 minutos\n",
            "El tiempo máximo de vuelo es: 15.08 horas **\n",
            "Es mas apropiado en horas, ya que es mas facil de interpretar...\n"
          ]
        }
      ]
    },
    {
      "cell_type": "code",
      "source": [
        "# ¿Cuál es la aerolínea con más vuelos?\n",
        "\n",
        "# get flights by airline\n",
        "df_vuelos_aerolinas = df_with_hours.groupBy(\"UniqueCarrier\").count()\n",
        "\n",
        "# get max flights\n",
        "max_aerolinea = df_vuelos_aerolinas.select(F.max(\"count\")).first()[0]\n",
        "\n",
        "#get airline with max flights\n",
        "df_max_aerolinea = df_vuelos_aerolinas.filter(F.col(\"count\") == max_aerolinea)\n",
        "aerolinea = df_max_aerolinea.collect()[0][0]\n",
        "vuelos = df_max_aerolinea.collect()[0][1]\n",
        "\n",
        "print(f\"La aerolínea con más vuelos es: {aerolinea}, con {vuelos} viajes\")"
      ],
      "metadata": {
        "colab": {
          "base_uri": "https://localhost:8080/"
        },
        "id": "8Qo2uwlrezF_",
        "outputId": "89ac26cb-def7-4722-8cec-831cbfc4b624"
      },
      "execution_count": 28,
      "outputs": [
        {
          "output_type": "stream",
          "name": "stdout",
          "text": [
            "La aerolínea con más vuelos es: WN, con 398966 viajes\n"
          ]
        }
      ]
    },
    {
      "cell_type": "code",
      "source": [
        "#¿Cuál es el destino más popular?\n",
        "# get flights by destination\n",
        "df_vuelos_destino = df_with_hours.groupBy(\"Dest\").count()\n",
        "\n",
        "# get max flights\n",
        "max_destino = df_vuelos_destino.select(F.max(\"count\")).first()[0]\n",
        "\n",
        "# get destination with max flights\n",
        "df_max_destino = df_vuelos_destino.filter(F.col(\"count\") == max_destino)\n",
        "\n",
        "destino = df_max_destino.collect()[0][0]\n",
        "vuelos = df_max_destino.collect()[0][1]\n",
        "\n",
        "print(f\"El destino con más vuelos es: {destino}, con {vuelos} viajes\")"
      ],
      "metadata": {
        "colab": {
          "base_uri": "https://localhost:8080/"
        },
        "id": "IIlZh104e0XX",
        "outputId": "1d38af4c-4397-43f2-afbe-cb7658188865"
      },
      "execution_count": 29,
      "outputs": [
        {
          "output_type": "stream",
          "name": "stdout",
          "text": [
            "El destino con más vuelos es: ATL, con 136950 viajes\n"
          ]
        }
      ]
    },
    {
      "cell_type": "code",
      "source": [
        "# ¿Qué día de la semana tiene más vuelos?\n",
        "# get flights by day of week\n",
        "df_vuelos_dia = df_with_hours.groupBy(\"DayOfWeek\").count()\n",
        "\n",
        "# get max flights\n",
        "max_dia = df_vuelos_dia.select(F.max(\"count\")).first()[0]\n",
        "\n",
        "# get day with max flights\n",
        "df_max_dia = df_vuelos_dia.filter(F.col(\"count\") == max_dia)\n",
        "\n",
        "# change day number to day name\n",
        "df_max_dia = df_max_dia.withColumn(\"DayOfWeek\", F.when(F.col(\"DayOfWeek\") == 1, \"Lunes\")\\\n",
        "    .when(F.col(\"DayOfWeek\") == 2, \"Martes\")\\\n",
        "    .when(F.col(\"DayOfWeek\") == 3, \"Miércoles\")\\\n",
        "    .when(F.col(\"DayOfWeek\") == 4, \"Jueves\")\\\n",
        "    .when(F.col(\"DayOfWeek\") == 5, \"Viernes\")\\\n",
        "    .when(F.col(\"DayOfWeek\") == 6, \"Sábado\")\\\n",
        "    .when(F.col(\"DayOfWeek\") == 7, \"Domingo\"))\n",
        "\n",
        "\n",
        "\n",
        "\n",
        "# get day with max flights\n",
        "dia = df_max_dia.collect()[0][0]\n",
        "vuelos = df_max_dia.collect()[0][1]\n",
        "\n",
        "print(f\"El día con más vuelos es: {dia}, con {vuelos} viajes\")"
      ],
      "metadata": {
        "colab": {
          "base_uri": "https://localhost:8080/"
        },
        "id": "goJNOFN9e1-X",
        "outputId": "84f08ad3-8b8d-4ee1-fde1-7cf1842bea36"
      },
      "execution_count": 30,
      "outputs": [
        {
          "output_type": "stream",
          "name": "stdout",
          "text": [
            "El día con más vuelos es: Miércoles, con 365560 viajes\n"
          ]
        }
      ]
    },
    {
      "cell_type": "code",
      "source": [
        "sc.stop()"
      ],
      "metadata": {
        "id": "gY1E0pAye3XW"
      },
      "execution_count": 31,
      "outputs": []
    },
    {
      "cell_type": "code",
      "source": [],
      "metadata": {
        "id": "BoU9aDHfjzwk"
      },
      "execution_count": null,
      "outputs": []
    }
  ]
}