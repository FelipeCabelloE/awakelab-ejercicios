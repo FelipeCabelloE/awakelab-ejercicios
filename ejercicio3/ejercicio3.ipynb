{
 "cells": [
  {
   "attachments": {},
   "cell_type": "markdown",
   "metadata": {},
   "source": [
    "1. Dada la lista L = [\"almacenar\", 8, \"a\", [1,2,3], True, (0,0,1), 85.7]"
   ]
  },
  {
   "cell_type": "code",
   "execution_count": 4,
   "metadata": {},
   "outputs": [
    {
     "name": "stdout",
     "output_type": "stream",
     "text": [
      "el elemento 85.7 está presente en la lista L\n",
      "el elemento True está presente en la lista L\n",
      "el elemento [1, 2, 3] está presente en la lista L\n",
      "el elemento a está presente en la lista L\n",
      "la posicion de (0,0,1) en la lista es: 5\n",
      "['almacenar', 8, 'a', [1, 2, 3], True, (0, 0, 1)]\n",
      "1\n"
     ]
    }
   ],
   "source": [
    "## a. ¿Cuál de estos elementos pertenece a ella?\n",
    "L = [\"almacenar\", 8, \"a\", [1,2,3], True, (0,0,1), 85.7]\n",
    "elementos = [85.7, True, [(0,0,1)], [1,2,3], 0, [True], 85, \"a\"]\n",
    "\n",
    "for elemento in elementos:\n",
    "    if elemento in L:\n",
    "        print(f'el elemento {elemento} está presente en la lista L')\n",
    "\n",
    "## b. Cómo obtener la posicion en que se encuentra el elemento (0,0,1) en la lista L?\n",
    "\n",
    "try:\n",
    "    posicion = L.index((0,0,1))\n",
    "    print(\"la posicion de (0,0,1) en la lista es:\", posicion)\n",
    "except ValueError:\n",
    "    print(\"el item no esta en la lista.\")\n",
    "\n",
    "## c. ¿Cómo eliminar el último elemento, independientemente de cuántos elementos haya en la lista?\n",
    "\n",
    "L.remove(L[-1])\n",
    "print(L)\n",
    "\n",
    "## d. Utilizar una operación para contar cuántas veces aparece el string “a”. ¿Cuál será el resultado?\n",
    "\n",
    "print(L.count(\"a\"))\n",
    "\n",
    "\n",
    "\n"
   ]
  },
  {
   "attachments": {},
   "cell_type": "markdown",
   "metadata": {},
   "source": [
    "2. Escribir un programa que pida al usuario una palabra y muestre por pantalla si es un palíndromo."
   ]
  },
  {
   "cell_type": "code",
   "execution_count": 7,
   "metadata": {},
   "outputs": [
    {
     "name": "stdout",
     "output_type": "stream",
     "text": [
      "zcxvzxv\n",
      "No es palindromo\n"
     ]
    }
   ],
   "source": [
    "palabra = input(\"Ingrese una palabra: \")\n",
    "if palabra == palabra[::-1]:\n",
    "    print(palabra)\n",
    "    print(\"Es palindromo\")\n",
    "else:\n",
    "    print(palabra)   \n",
    "    print(\"No es palindromo\")\n",
    "\n"
   ]
  },
  {
   "attachments": {},
   "cell_type": "markdown",
   "metadata": {},
   "source": [
    "3. Escribir un programa que almacene en una lista los números del 1 al 10 y los muestre por pantalla en orden inverso separados por comas."
   ]
  },
  {
   "cell_type": "code",
   "execution_count": 16,
   "metadata": {},
   "outputs": [
    {
     "name": "stdout",
     "output_type": "stream",
     "text": [
      "10,9,8,7,6,5,4,3,2,1\n"
     ]
    }
   ],
   "source": [
    "\n",
    "rango = range(1,11)\n",
    "rango_separado_comas = ''\n",
    "for i in rango[::-1]:\n",
    "    if i == rango[0]:\n",
    "        rango_separado_comas += str(i)\n",
    "    else:\n",
    "        rango_separado_comas += str(i) + ','\n",
    "print(rango_separado_comas)"
   ]
  },
  {
   "attachments": {},
   "cell_type": "markdown",
   "metadata": {},
   "source": [
    "4. Escribir un programa que almacene las asignaturas de un curso (por\n",
    "ejemplo Matemáticas, Física, Química, Historia y Lengua) en una lista,\n",
    "pregunte al usuario la nota que ha sacado en cada asignatura, y después\n",
    "las muestre por pantalla con el mensaje En <asignatura> has sacado\n",
    "<nota> donde <asignatura> es cada una de las asignaturas de la lista\n",
    "y <nota> cada una de las correspondientes notas introducidas por el\n",
    "usuario."
   ]
  },
  {
   "cell_type": "code",
   "execution_count": 17,
   "metadata": {},
   "outputs": [
    {
     "name": "stdout",
     "output_type": "stream",
     "text": [
      "has sacado un 7 en Matemáticas\n",
      "has sacado un 6 en Física\n",
      "has sacado un 5 en Química\n",
      "has sacado un 4 en Historia\n",
      "has sacado un 3 en Lengua\n"
     ]
    }
   ],
   "source": [
    "asignaturas = [\"Matemáticas\", \"Física\", \"Química\", \"Historia\", \"Lengua\"]\n",
    "asignaturas_dict = {}\n",
    "for asignatura in asignaturas:\n",
    "    asignaturas_dict[asignatura] = input(f'Qué nota sacaste en {asignatura}?\\n')\n",
    "    \n",
    "for asignatura in asignaturas_dict:\n",
    "    print(f'has sacado un {asignaturas_dict[asignatura]} en {asignatura}')\n"
   ]
  },
  {
   "attachments": {},
   "cell_type": "markdown",
   "metadata": {},
   "source": [
    "5. Escribir un programa que almacene las matrices"
   ]
  },
  {
   "cell_type": "code",
   "execution_count": 19,
   "metadata": {},
   "outputs": [
    {
     "name": "stdout",
     "output_type": "stream",
     "text": [
      "[[2, 5], [2, 11]]\n"
     ]
    }
   ],
   "source": [
    "A = [[1,2,3],[4,5,6]]\n",
    "B = [[-1,0],[0,1],[1,1]]\n",
    "\n",
    "def multiplica(A, B) -> list[list[int]]:\n",
    "    '''multiplica dos matrices'''\n",
    "    result: list[list[int]] = [[sum(a * b for a, b in zip(row_A, col_B)) for col_B in zip(*B)] for row_A in A]\n",
    "    return result\n",
    "\n",
    "print(multiplica(A,B))\n"
   ]
  },
  {
   "attachments": {},
   "cell_type": "markdown",
   "metadata": {},
   "source": [
    "6. Escribir un programa que guarde en una variable el\n",
    "diccionario {'Euro':'€', 'Dollar':'$', 'Yen':'¥'}, pregunte al usuario por una\n",
    "divisa y muestre su símbolo o un mensaje de aviso si la divisa no está en\n",
    "el diccionario."
   ]
  },
  {
   "cell_type": "code",
   "execution_count": 23,
   "metadata": {},
   "outputs": [
    {
     "name": "stdout",
     "output_type": "stream",
     "text": [
      "No encontré la divisa\n"
     ]
    }
   ],
   "source": [
    "divisas: dict[str, str] = {'Euro':'€', 'Dollar':'$', 'Yen':'¥'}\n",
    "\n",
    "solicitud_usuario = input('Nombra o Euro o Yen o Dollar')\n",
    "\n",
    "if solicitud_usuario in divisas:\n",
    "    print(divisas[solicitud_usuario])\n",
    "else:\n",
    "    print('No encontré la divisa')"
   ]
  },
  {
   "attachments": {},
   "cell_type": "markdown",
   "metadata": {},
   "source": [
    "7. Escribir un programa que pregunte una fecha en\n",
    "formato dd/mm/aaaa y muestre por pantalla la misma fecha en\n",
    "formato dd de <mes> de aaaa donde <mes> es el nombre del mes."
   ]
  },
  {
   "cell_type": "code",
   "execution_count": 24,
   "metadata": {},
   "outputs": [
    {
     "name": "stdout",
     "output_type": "stream",
     "text": [
      "01 de Enero del 2000\n"
     ]
    }
   ],
   "source": [
    "fecha = input(\"Introduce una fecha en formato dd/mm/aaaa: \")\n",
    "meses = [\"Enero\", \"Febrero\", \"Marzo\", \"Abril\", \"Mayo\", \"Junio\", \"Julio\", \"Agosto\", \"Septiembre\", \"Octubre\", \"Noviembre\", \"Diciembre\"]\n",
    "fecha_separada = fecha.split(\"/\")\n",
    "\n",
    "print(f'{fecha_separada[0]} de {meses[int(fecha_separada[1]) - 1]} del {fecha_separada[2]}')"
   ]
  },
  {
   "attachments": {},
   "cell_type": "markdown",
   "metadata": {},
   "source": [
    "- ¿Sabemos que es una estructura de datos?\n",
    "\n",
    "Es una forma particular de almacenar informacion(datos), con el fin de ser utilizada de manera eficiente\n",
    "\n",
    "- ¿Conocemos los conceptos de Listas, Tuplas, etc.?\n",
    "Listas: Las listas son estructuras de datos ordenadas y mutables que pueden contener elementos de diferentes tipos. Se definen utilizando corchetes [] y los elementos están separados por comas.\n",
    "\n",
    "Tuplas: Las tuplas son similares a las listas, pero son inmutables, lo que significa que no puedes cambiar sus elementos una vez que se han asignado. Se definen utilizando paréntesis () y los elementos también están separados por comas.\n",
    "\n",
    "Conjuntos (Sets): Los conjuntos son colecciones no ordenadas de elementos únicos (sin duplicados) y son mutables. Se definen utilizando llaves {} y los elementos están separados por comas. Puedes utilizar conjuntos para realizar operaciones de conjuntos, como la unión, la intersección y la diferencia.\n",
    "\n",
    "Diccionarios: Los diccionarios son colecciones no ordenadas de pares clave-valor y son mutables. Se definen utilizando llaves {} y los pares clave-valor están separados por comas. Las claves y valores están separados por dos puntos :.\n",
    "\n"
   ]
  },
  {
   "cell_type": "markdown",
   "metadata": {},
   "source": []
  },
  {
   "cell_type": "markdown",
   "metadata": {},
   "source": []
  },
  {
   "cell_type": "code",
   "execution_count": null,
   "metadata": {},
   "outputs": [],
   "source": []
  }
 ],
 "metadata": {
  "kernelspec": {
   "display_name": "Python 3",
   "language": "python",
   "name": "python3"
  },
  "language_info": {
   "codemirror_mode": {
    "name": "ipython",
    "version": 3
   },
   "file_extension": ".py",
   "mimetype": "text/x-python",
   "name": "python",
   "nbconvert_exporter": "python",
   "pygments_lexer": "ipython3",
   "version": "3.10.10"
  },
  "orig_nbformat": 4
 },
 "nbformat": 4,
 "nbformat_minor": 2
}
