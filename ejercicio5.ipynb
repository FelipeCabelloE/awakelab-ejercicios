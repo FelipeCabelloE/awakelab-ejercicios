{
 "cells": [
  {
   "cell_type": "code",
   "execution_count": null,
   "metadata": {},
   "outputs": [],
   "source": [
    "# 1. Para el siguientes ejemplo, proporcione la(s) excepción(es) adecuada(s):\n",
    "\n",
    "\n",
    "a = 10\n",
    "b = 0\n",
    "try:\n",
    "    c = a / b\n",
    "    print(f'a/b = {c}')\n",
    "    \n",
    "except ZeroDivisionError:\n",
    "    print(\"No se puede dividir entre 0\")\n",
    "\n",
    "\n"
   ]
  },
  {
   "cell_type": "code",
   "execution_count": null,
   "metadata": {},
   "outputs": [],
   "source": [
    "a = input('Ingrese un numerador:')\n",
    "b = input('Ingrese un denominador:')\n",
    "\n",
    "numerador = float(a)\n",
    "denominador = float(b)\n",
    "try:\n",
    "    c = numerador / denominador\n",
    "    print(f'a/b = {c}')\n",
    "    \n",
    "except ZeroDivisionError:\n",
    "    print(\"No se puede dividir entre 0\")\n",
    "    "
   ]
  }
 ],
 "metadata": {
  "language_info": {
   "name": "python"
  },
  "orig_nbformat": 4
 },
 "nbformat": 4,
 "nbformat_minor": 2
}
