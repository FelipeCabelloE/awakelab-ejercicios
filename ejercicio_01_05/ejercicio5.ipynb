{
 "cells": [
  {
   "cell_type": "code",
   "execution_count": 31,
   "metadata": {},
   "outputs": [
    {
     "name": "stdout",
     "output_type": "stream",
     "text": [
      "10 / 100 = 0.1\n"
     ]
    }
   ],
   "source": [
    "# 1. Para el siguientes ejemplo, proporcione la(s) excepción(es) adecuada(s):\n",
    "\n",
    "\n",
    "a = 10\n",
    "b = 100\n",
    "try:\n",
    "    c = a / b\n",
    "    print(f'{a} / {b} = {c}')\n",
    "    \n",
    "except ZeroDivisionError:\n",
    "    print(\"No se puede dividir entre 0\")\n",
    "\n",
    "except:\n",
    "    print(\"Error\")\n",
    "\n"
   ]
  },
  {
   "cell_type": "code",
   "execution_count": 14,
   "metadata": {},
   "outputs": [
    {
     "name": "stdout",
     "output_type": "stream",
     "text": [
      "Este programa divide dos numeros\n",
      "Solo se aceptan numeros\n",
      "1.0\n"
     ]
    }
   ],
   "source": [
    "\n",
    "# Programa que solicita dos numeros al usuario y realiza una division. Si el denominador es 0, se vuelve a pedir el denominador.\n",
    "\n",
    "\n",
    "\n",
    "def preguntar_numero(mensaje):\n",
    "    \"\"\"esta funcion solicita un input al usuario y lo retorna.\n",
    "\n",
    "    Returns:\n",
    "        numero: el numero ingresado por el usuario\n",
    "        \n",
    "    Args:\n",
    "        mensaje: el mensaje que se mostrara al usuario.\n",
    "\n",
    "    \"\"\"\n",
    "    numero = input(f'{mensaje}')\n",
    "    \n",
    "    try:\n",
    "        # se intenta convertir el numero a float y se retorna.\n",
    "        # si hay un error, se captura y se muestra el mensaje correspondiente.\n",
    "        numero = float(numero)\n",
    "        return numero\n",
    "    except ValueError:\n",
    "        print('Solo se aceptan numeros')\n",
    "        return preguntar_numero(mensaje)\n",
    "        \n",
    "        \n",
    "def division():\n",
    "    \"\"\"esta funcion toma solicita dos inputs al momento de ejecución e intenta dividirlos. Si no lo logra envía un mensaje y vuelve a preguntar hasta que se entregar un input válido.\n",
    "    \"\"\"\n",
    "    print('Este programa divide dos numeros')\n",
    "    # se piden los valores\n",
    "    a = preguntar_numero('Ingrese un numerador:')\n",
    "    b = preguntar_numero('Ingrese un denominador:')\n",
    "\n",
    "\n",
    "    try:\n",
    "        # se intenta hacer la division y se guarda en una variable.\n",
    "        # si hay un error, se captura y se muestra el mensaje correspondiente.\n",
    "        # se retorna el resultado.\n",
    "        result = a/b\n",
    "        return result\n",
    "    \n",
    "    except ZeroDivisionError:\n",
    "        print(\"No se puede dividir entre 0\")\n",
    "        return division()\n",
    "\n",
    "\n",
    "print(division())\n",
    "\n",
    "    "
   ]
  },
  {
   "cell_type": "code",
   "execution_count": 28,
   "metadata": {},
   "outputs": [
    {
     "data": {
      "text/plain": [
       "50.0"
      ]
     },
     "execution_count": 28,
     "metadata": {},
     "output_type": "execute_result"
    }
   ],
   "source": [
    "# crear una funcion de interés simple\n",
    "\n",
    "def interesSimple(monto, tasaInteres, agno):\n",
    "    \n",
    "    # validar que la tasa de interés no sea mayor a 100%\n",
    "    \n",
    "    if tasaInteres <= 0 or monto <= 0 or agno <= 0:\n",
    "        raise ValueError(\"No puede haber valores negativos o iguales a 0\")\n",
    "    \n",
    "    # validar que la tasa de interés no sea mayor a 100%\n",
    "    \n",
    "    if tasaInteres > 100:\n",
    "        raise ValueError(\"La tasa de interés no puede ser mayor a 100\")\n",
    "    \n",
    "    interesSimple = monto * tasaInteres * agno / 100\n",
    "    \n",
    " 0   return interesSimple\n",
    "\n",
    "interesSimple(1000, 10, 0.5)"
   ]
  },
  {
   "cell_type": "code",
   "execution_count": 25,
   "metadata": {},
   "outputs": [
    {
     "name": "stdout",
     "output_type": "stream",
     "text": [
      "\u001b[0;31mSignature:\u001b[0m \u001b[0minteresSimple\u001b[0m\u001b[0;34m(\u001b[0m\u001b[0mmonto\u001b[0m\u001b[0;34m,\u001b[0m \u001b[0mtasaInteres\u001b[0m\u001b[0;34m,\u001b[0m \u001b[0magno\u001b[0m\u001b[0;34m)\u001b[0m\u001b[0;34m\u001b[0m\u001b[0;34m\u001b[0m\u001b[0m\n",
      "\u001b[0;31mDocstring:\u001b[0m <no docstring>\n",
      "\u001b[0;31mFile:\u001b[0m      /tmp/ipykernel_17054/3107072009.py\n",
      "\u001b[0;31mType:\u001b[0m      function"
     ]
    }
   ],
   "source": []
  },
  {
   "attachments": {},
   "cell_type": "markdown",
   "metadata": {},
   "source": [
    "- ¿Cómo manejar las excepciones usando las sentencias try, except y\n",
    "finalmente?\n",
    "    \n",
    "Las sentencias mencionadas permiten manejar las excepciones mediante el control del flujo del programa. Cada una de las sentencias tiene una función.\n",
    "La sentencia try permite ejecutar el código indentado, si ocurriera algún error esta delega la ejecución del programa a la sentencia except. Dicha sentencia ejecuta su código indentado. El uso conjunto de estas sentencias permite manejar la emergencia de errores en el programa sin provocar la detención inesperada del programa. Por último está la sentencia finally. Esta sentencia ejecuta código independiente de los resultados dentro de las dos sentencias anteriores. Esto permite seguir ejecutando código, incluso si existió un error en el programa. Esto es util para cerrar el programa y limpiar los recursos utilizados\n",
    "\n",
    "\n",
    "\n",
    "- ¿Cómo generar excepciones?\n",
    "\n",
    "Las excepciones se pueden generar usando las sentencias assert y rise en conjunto con los objetos exception. La sentencia rise permite elevar un objeto exception para entregar información más específica sobre el error que surgió. La sentencia assert genera un assertion error, esto permite detener el programa si es que alguna variable contiene información que hace inviable la ejecución."
   ]
  },
  {
   "cell_type": "markdown",
   "metadata": {},
   "source": []
  }
 ],
 "metadata": {
  "kernelspec": {
   "display_name": ".venv",
   "language": "python",
   "name": "python3"
  },
  "language_info": {
   "codemirror_mode": {
    "name": "ipython",
    "version": 3
   },
   "file_extension": ".py",
   "mimetype": "text/x-python",
   "name": "python",
   "nbconvert_exporter": "python",
   "pygments_lexer": "ipython3",
   "version": "3.10.10"
  },
  "orig_nbformat": 4
 },
 "nbformat": 4,
 "nbformat_minor": 2
}
