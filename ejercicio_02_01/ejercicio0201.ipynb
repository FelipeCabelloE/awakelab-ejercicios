{
 "cells": [
  {
   "attachments": {},
   "cell_type": "markdown",
   "metadata": {},
   "source": [
    "# Ejercicio 0201\n",
    "\n",
    "Link: https://drive.google.com/file/d/189zhy8tZcJ6DrTlQsBuB8figmcUhQUwQ/view\n",
    "\n",
    "\n",
    "## Ejercicios planteados\n",
    "\n",
    "1. Dadas 2 matrices con dimensiones similares, ¿cómo obtener una salida de matriz en la que cada elemento es una suma de elementos de las 2 matrices? (solo puede usar numpy como librería, si realiza la matriz con otro paquete el ejercicio no es válido)\n",
    "2. Cree una matriz de identidad de dimensión 4.\n",
    "3. Convierte una matriz numpy binaria (que contiene solo 0 y 1) en una matriz numpy booleana.\n",
    "4. Genere una secuencia de números en forma de matriz numpy de 0 a 100 con espacios de 2 números, por ejemplo: 0, 2, 4 ...\n"
   ]
  },
  {
   "cell_type": "code",
   "execution_count": 1,
   "metadata": {},
   "outputs": [
    {
     "name": "stdout",
     "output_type": "stream",
     "text": [
      "Collecting numpy\n",
      "  Using cached numpy-1.24.3-cp311-cp311-win_amd64.whl (14.8 MB)\n",
      "Installing collected packages: numpy\n",
      "Successfully installed numpy-1.24.3\n",
      "Note: you may need to restart the kernel to use updated packages.\n"
     ]
    }
   ],
   "source": [
    "%pip install numpy"
   ]
  },
  {
   "cell_type": "code",
   "execution_count": 2,
   "metadata": {},
   "outputs": [],
   "source": [
    "import numpy as np"
   ]
  },
  {
   "cell_type": "code",
   "execution_count": 3,
   "metadata": {},
   "outputs": [
    {
     "name": "stdout",
     "output_type": "stream",
     "text": [
      "[[11 13 15]\n",
      " [17 19 21]\n",
      " [23 25 27]]\n"
     ]
    }
   ],
   "source": [
    "# Definir dos matrices de la misma dimensión\n",
    "matriz1 = np.array([[1, 2, 3], [4, 5, 6], [7, 8, 9]])\n",
    "matriz2 = np.array([[10, 11, 12], [13, 14, 15], [16, 17, 18]])\n",
    "\n",
    "# Sumar las dos matrices\n",
    "matriz_suma = matriz1 + matriz2\n",
    "\n",
    "print(matriz_suma)"
   ]
  },
  {
   "cell_type": "code",
   "execution_count": 4,
   "metadata": {},
   "outputs": [
    {
     "name": "stdout",
     "output_type": "stream",
     "text": [
      "[[1. 0. 0. 0.]\n",
      " [0. 1. 0. 0.]\n",
      " [0. 0. 1. 0.]\n",
      " [0. 0. 0. 1.]]\n"
     ]
    }
   ],
   "source": [
    "# Crear matriz de identidad de dimensión 4, se asume que es una matriz bidimensional. Por lo que no sería un tensor 4D compuesto de matrices identidad.\n",
    "identidad = np.eye(4)\n",
    "\n",
    "print(identidad)"
   ]
  },
  {
   "cell_type": "code",
   "execution_count": 5,
   "metadata": {},
   "outputs": [
    {
     "name": "stdout",
     "output_type": "stream",
     "text": [
      "[[False  True]\n",
      " [ True False]]\n"
     ]
    }
   ],
   "source": [
    "\n",
    "# Crear una matriz binaria\n",
    "binaria = np.array([[0, 1], [1, 0]])\n",
    "\n",
    "# Convertir a matriz booleana\n",
    "booleana = binaria.astype(bool)\n",
    "\n",
    "print(booleana)"
   ]
  },
  {
   "cell_type": "code",
   "execution_count": 6,
   "metadata": {},
   "outputs": [
    {
     "name": "stdout",
     "output_type": "stream",
     "text": [
      "[  0   2   4   6   8  10  12  14  16  18  20  22  24  26  28  30  32  34\n",
      "  36  38  40  42  44  46  48  50  52  54  56  58  60  62  64  66  68  70\n",
      "  72  74  76  78  80  82  84  86  88  90  92  94  96  98 100]\n"
     ]
    }
   ],
   "source": [
    "# Generar secuencia\n",
    "secuencia = np.arange(0, 101, 2)\n",
    "\n",
    "print(secuencia)"
   ]
  },
  {
   "cell_type": "code",
   "execution_count": null,
   "metadata": {},
   "outputs": [],
   "source": []
  }
 ],
 "metadata": {
  "kernelspec": {
   "display_name": "Python 3",
   "language": "python",
   "name": "python3"
  },
  "language_info": {
   "codemirror_mode": {
    "name": "ipython",
    "version": 3
   },
   "file_extension": ".py",
   "mimetype": "text/x-python",
   "name": "python",
   "nbconvert_exporter": "python",
   "pygments_lexer": "ipython3",
   "version": "3.11.3"
  },
  "orig_nbformat": 4
 },
 "nbformat": 4,
 "nbformat_minor": 2
}
