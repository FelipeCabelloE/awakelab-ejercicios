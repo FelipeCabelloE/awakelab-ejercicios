{
 "cells": [
  {
   "cell_type": "code",
   "execution_count": 2,
   "metadata": {},
   "outputs": [
    {
     "name": "stdout",
     "output_type": "stream",
     "text": [
      "\n",
      "Ventas antes del descuento:\n",
      "2020    1000.0\n",
      "2021     500.0\n",
      "dtype: float64\n",
      "\n",
      "Ventas después del descuento:\n",
      "2020    900.0\n",
      "2021    450.0\n",
      "dtype: float64\n"
     ]
    }
   ],
   "source": [
    "# 1. Escribir un programa que pregunte al usuario por las ventas de un rango\n",
    "# de años y muestre por pantalla una serie con los datos de las ventas\n",
    "# indexada por los años, antes y después de aplicarles un descuento del\n",
    "# 10%.\n",
    "\n",
    "import pandas as pd\n",
    "\n",
    "# Solicitamos al usuario el año inicial y final\n",
    "year_start = int(input(\"Por favor, ingrese el año inicial: \"))\n",
    "year_end = int(input(\"Por favor, ingrese el año final: \"))\n",
    "\n",
    "# Creamos dos listas vacías para almacenar los años y las ventas\n",
    "years = []\n",
    "sales = []\n",
    "\n",
    "# Recorremos el rango de años solicitado\n",
    "for year in range(year_start, year_end + 1):\n",
    "    years.append(year)  # Añadimos el año a la lista de años\n",
    "    sales_year = float(input(f\"Ingrese las ventas del año {year}: \"))  # Solicitamos las ventas de ese año\n",
    "    sales.append(sales_year)  # Añadimos las ventas a la lista de ventas\n",
    "\n",
    "# Creamos una serie de pandas con los datos de ventas indexada por los años\n",
    "sales_series = pd.Series(sales, index=years)\n",
    "\n",
    "print(\"\\nVentas antes del descuento:\")\n",
    "print(sales_series)\n",
    "\n",
    "# Aplicamos un descuento del 10% a las ventas\n",
    "sales_discount = sales_series * 0.9\n",
    "\n",
    "print(\"\\nVentas después del descuento:\")\n",
    "print(sales_discount)\n",
    "\n",
    "\n",
    "\n",
    "\n",
    "\n",
    "\n",
    "\n"
   ]
  },
  {
   "cell_type": "code",
   "execution_count": 3,
   "metadata": {},
   "outputs": [
    {
     "name": "stdout",
     "output_type": "stream",
     "text": [
      "Nota mínima          79.000000\n",
      "Nota máxima          92.000000\n",
      "Nota media           86.800000\n",
      "Desviación típica     5.069517\n",
      "dtype: float64\n"
     ]
    }
   ],
   "source": [
    "# 2. Escribir una función que reciba un diccionario con las notas de los\n",
    "# alumnos en curso en un examen y devuelva una serie con la nota\n",
    "# mínima, la máxima, media y la desviación típica.\n",
    "\n",
    "def analyze_grades(grades_dict):\n",
    "    # Convertimos el diccionario de notas a una serie de pandas\n",
    "    grades_series = pd.Series(grades_dict)\n",
    "\n",
    "    # Calculamos las estadísticas deseadas\n",
    "    min_grade = grades_series.min()\n",
    "    max_grade = grades_series.max()\n",
    "    mean_grade = grades_series.mean()\n",
    "    std_dev = grades_series.std()\n",
    "\n",
    "    # Creamos un diccionario con los resultados\n",
    "    results = {\n",
    "        'Nota mínima': min_grade,\n",
    "        'Nota máxima': max_grade,\n",
    "        'Nota media': mean_grade,\n",
    "        'Desviación típica': std_dev\n",
    "    }\n",
    "\n",
    "    # Convertimos el diccionario de resultados a una serie de pandas y la devolvemos\n",
    "    return pd.Series(results)\n",
    "\n",
    "# Ejemplo de uso de la función\n",
    "grades = {\n",
    "    'Ana': 90,\n",
    "    'Luis': 85,\n",
    "    'Juan': 79,\n",
    "    'Sofia': 92,\n",
    "    'Carlos': 88\n",
    "}\n",
    "\n",
    "print(analyze_grades(grades))\n",
    "\n"
   ]
  },
  {
   "cell_type": "code",
   "execution_count": 4,
   "metadata": {},
   "outputs": [
    {
     "name": "stdout",
     "output_type": "stream",
     "text": [
      "Sofia     92\n",
      "Ana       90\n",
      "Carlos    88\n",
      "Juan      79\n",
      "dtype: int64\n"
     ]
    }
   ],
   "source": [
    "# 3. Escribir una función que reciba una diccionario con las notas de los\n",
    "# alumnos en curso en un examen y devuelva una serie con las notas de\n",
    "# los alumnos aprobados ordenadas de mayor a menor.\n",
    "\n",
    "def passed_grades(grades_dict):\n",
    "    # Convertimos el diccionario de notas a una serie de pandas\n",
    "    grades_series = pd.Series(grades_dict)\n",
    "\n",
    "    # Filtramos las notas para solo quedarnos con los alumnos aprobados (asumimos que 60 es la nota de aprobación)\n",
    "    passed_grades = grades_series[grades_series >= 60]\n",
    "\n",
    "    # Ordenamos las notas de mayor a menor\n",
    "    sorted_passed_grades = passed_grades.sort_values(ascending=False)\n",
    "\n",
    "    # Devolvemos la serie ordenada\n",
    "    return sorted_passed_grades\n",
    "\n",
    "# Ejemplo de uso de la función\n",
    "grades = {\n",
    "    'Ana': 90,\n",
    "    'Luis': 55,\n",
    "    'Juan': 79,\n",
    "    'Sofia': 92,\n",
    "    'Carlos': 88\n",
    "}\n",
    "\n",
    "print(passed_grades(grades))"
   ]
  },
  {
   "cell_type": "code",
   "execution_count": 5,
   "metadata": {},
   "outputs": [
    {
     "name": "stdout",
     "output_type": "stream",
     "text": [
      "       Mes  Ventas  Gastos\n",
      "0    Enero   30500   22000\n",
      "1  Febrero   35600   23400\n",
      "2    Marzo   28300   18100\n",
      "3    Abril   33900   20700\n"
     ]
    }
   ],
   "source": [
    "# 4. Escribir programa que genere y muestre por pantalla un DataFrame con\n",
    "# los datos de la tabla siguiente:\n",
    "\n",
    "\n",
    "# Creamos un diccionario con los datos de la tabla\n",
    "data = {\n",
    "    'Mes': ['Enero', 'Febrero', 'Marzo', 'Abril'],\n",
    "    'Ventas': [30500, 35600, 28300, 33900],\n",
    "    'Gastos': [22000, 23400, 18100, 20700]\n",
    "}\n",
    "\n",
    "# Convertimos el diccionario a un DataFrame de pandas\n",
    "df = pd.DataFrame(data)\n",
    "\n",
    "# Mostramos el DataFrame por pantalla\n",
    "print(df)\n",
    "\n",
    "\n"
   ]
  }
 ],
 "metadata": {
  "kernelspec": {
   "display_name": ".venv",
   "language": "python",
   "name": "python3"
  },
  "language_info": {
   "codemirror_mode": {
    "name": "ipython",
    "version": 3
   },
   "file_extension": ".py",
   "mimetype": "text/x-python",
   "name": "python",
   "nbconvert_exporter": "python",
   "pygments_lexer": "ipython3",
   "version": "3.10.11"
  },
  "orig_nbformat": 4
 },
 "nbformat": 4,
 "nbformat_minor": 2
}
