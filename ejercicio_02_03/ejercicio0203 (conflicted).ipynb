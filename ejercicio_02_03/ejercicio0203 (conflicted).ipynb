{
 "cells": [
  {
   "cell_type": "code",
   "execution_count": 1,
   "metadata": {},
   "outputs": [],
   "source": [
    "import pandas as pd"
   ]
  },
  {
   "cell_type": "code",
   "execution_count": 19,
   "metadata": {},
   "outputs": [
    {
     "ename": "KeyError",
     "evalue": "'Precio'",
     "output_type": "error",
     "traceback": [
      "\u001b[0;31m---------------------------------------------------------------------------\u001b[0m",
      "\u001b[0;31mKeyError\u001b[0m                                  Traceback (most recent call last)",
      "File \u001b[0;32m~/git/awake/.venv/lib64/python3.10/site-packages/pandas/core/indexes/base.py:3652\u001b[0m, in \u001b[0;36mIndex.get_loc\u001b[0;34m(self, key)\u001b[0m\n\u001b[1;32m   3651\u001b[0m \u001b[39mtry\u001b[39;00m:\n\u001b[0;32m-> 3652\u001b[0m     \u001b[39mreturn\u001b[39;00m \u001b[39mself\u001b[39;49m\u001b[39m.\u001b[39;49m_engine\u001b[39m.\u001b[39;49mget_loc(casted_key)\n\u001b[1;32m   3653\u001b[0m \u001b[39mexcept\u001b[39;00m \u001b[39mKeyError\u001b[39;00m \u001b[39mas\u001b[39;00m err:\n",
      "File \u001b[0;32m~/git/awake/.venv/lib64/python3.10/site-packages/pandas/_libs/index.pyx:147\u001b[0m, in \u001b[0;36mpandas._libs.index.IndexEngine.get_loc\u001b[0;34m()\u001b[0m\n",
      "File \u001b[0;32m~/git/awake/.venv/lib64/python3.10/site-packages/pandas/_libs/index.pyx:176\u001b[0m, in \u001b[0;36mpandas._libs.index.IndexEngine.get_loc\u001b[0;34m()\u001b[0m\n",
      "File \u001b[0;32mpandas/_libs/hashtable_class_helper.pxi:7080\u001b[0m, in \u001b[0;36mpandas._libs.hashtable.PyObjectHashTable.get_item\u001b[0;34m()\u001b[0m\n",
      "File \u001b[0;32mpandas/_libs/hashtable_class_helper.pxi:7088\u001b[0m, in \u001b[0;36mpandas._libs.hashtable.PyObjectHashTable.get_item\u001b[0;34m()\u001b[0m\n",
      "\u001b[0;31mKeyError\u001b[0m: 'Precio'",
      "\nThe above exception was the direct cause of the following exception:\n",
      "\u001b[0;31mKeyError\u001b[0m                                  Traceback (most recent call last)",
      "Cell \u001b[0;32mIn[19], line 15\u001b[0m\n\u001b[1;32m     12\u001b[0m     \u001b[39mreturn\u001b[39;00m promedio_precios, promedio_calificacion\n\u001b[1;32m     14\u001b[0m \u001b[39m# Ejemplo de uso\u001b[39;00m\n\u001b[0;32m---> 15\u001b[0m precio_promedio, calificacion_promedio \u001b[39m=\u001b[39m calcularPromedios(\u001b[39m'\u001b[39;49m\u001b[39mvideojuegos1.csv.xlsm\u001b[39;49m\u001b[39m'\u001b[39;49m)\n\u001b[1;32m     16\u001b[0m \u001b[39mprint\u001b[39m(\u001b[39m'\u001b[39m\u001b[39mEl precio promedio es: \u001b[39m\u001b[39m'\u001b[39m, precio_promedio)\n\u001b[1;32m     17\u001b[0m \u001b[39mprint\u001b[39m(\u001b[39m'\u001b[39m\u001b[39mLa calificación promedio es: \u001b[39m\u001b[39m'\u001b[39m, calificacion_promedio)\n",
      "Cell \u001b[0;32mIn[19], line 9\u001b[0m, in \u001b[0;36mcalcularPromedios\u001b[0;34m(nomArchivo)\u001b[0m\n\u001b[1;32m      6\u001b[0m df \u001b[39m=\u001b[39m pd\u001b[39m.\u001b[39mread_excel(nomArchivo, engine\u001b[39m=\u001b[39m\u001b[39m'\u001b[39m\u001b[39mopenpyxl\u001b[39m\u001b[39m'\u001b[39m)\n\u001b[1;32m      8\u001b[0m \u001b[39m# Calculando el promedio de los precios y de la calificación\u001b[39;00m\n\u001b[0;32m----> 9\u001b[0m promedio_precios \u001b[39m=\u001b[39m df[\u001b[39m'\u001b[39;49m\u001b[39mPrecio\u001b[39;49m\u001b[39m'\u001b[39;49m]\u001b[39m.\u001b[39mmean()\n\u001b[1;32m     10\u001b[0m promedio_calificacion \u001b[39m=\u001b[39m df[\u001b[39m'\u001b[39m\u001b[39mCalificacion\u001b[39m\u001b[39m'\u001b[39m]\u001b[39m.\u001b[39mmean()\n\u001b[1;32m     12\u001b[0m \u001b[39mreturn\u001b[39;00m promedio_precios, promedio_calificacion\n",
      "File \u001b[0;32m~/git/awake/.venv/lib64/python3.10/site-packages/pandas/core/frame.py:3760\u001b[0m, in \u001b[0;36mDataFrame.__getitem__\u001b[0;34m(self, key)\u001b[0m\n\u001b[1;32m   3758\u001b[0m \u001b[39mif\u001b[39;00m \u001b[39mself\u001b[39m\u001b[39m.\u001b[39mcolumns\u001b[39m.\u001b[39mnlevels \u001b[39m>\u001b[39m \u001b[39m1\u001b[39m:\n\u001b[1;32m   3759\u001b[0m     \u001b[39mreturn\u001b[39;00m \u001b[39mself\u001b[39m\u001b[39m.\u001b[39m_getitem_multilevel(key)\n\u001b[0;32m-> 3760\u001b[0m indexer \u001b[39m=\u001b[39m \u001b[39mself\u001b[39;49m\u001b[39m.\u001b[39;49mcolumns\u001b[39m.\u001b[39;49mget_loc(key)\n\u001b[1;32m   3761\u001b[0m \u001b[39mif\u001b[39;00m is_integer(indexer):\n\u001b[1;32m   3762\u001b[0m     indexer \u001b[39m=\u001b[39m [indexer]\n",
      "File \u001b[0;32m~/git/awake/.venv/lib64/python3.10/site-packages/pandas/core/indexes/base.py:3654\u001b[0m, in \u001b[0;36mIndex.get_loc\u001b[0;34m(self, key)\u001b[0m\n\u001b[1;32m   3652\u001b[0m     \u001b[39mreturn\u001b[39;00m \u001b[39mself\u001b[39m\u001b[39m.\u001b[39m_engine\u001b[39m.\u001b[39mget_loc(casted_key)\n\u001b[1;32m   3653\u001b[0m \u001b[39mexcept\u001b[39;00m \u001b[39mKeyError\u001b[39;00m \u001b[39mas\u001b[39;00m err:\n\u001b[0;32m-> 3654\u001b[0m     \u001b[39mraise\u001b[39;00m \u001b[39mKeyError\u001b[39;00m(key) \u001b[39mfrom\u001b[39;00m \u001b[39merr\u001b[39;00m\n\u001b[1;32m   3655\u001b[0m \u001b[39mexcept\u001b[39;00m \u001b[39mTypeError\u001b[39;00m:\n\u001b[1;32m   3656\u001b[0m     \u001b[39m# If we have a listlike key, _check_indexing_error will raise\u001b[39;00m\n\u001b[1;32m   3657\u001b[0m     \u001b[39m#  InvalidIndexError. Otherwise we fall through and re-raise\u001b[39;00m\n\u001b[1;32m   3658\u001b[0m     \u001b[39m#  the TypeError.\u001b[39;00m\n\u001b[1;32m   3659\u001b[0m     \u001b[39mself\u001b[39m\u001b[39m.\u001b[39m_check_indexing_error(key)\n",
      "\u001b[0;31mKeyError\u001b[0m: 'Precio'"
     ]
    }
   ],
   "source": [
    "# 1.- Crear un programa que sea capaz de leer el archivo videojuegos.csv,\n",
    "# luego sacar el promedio de los precios y el promedio de la calificación.\n",
    "\n",
    "def calcularPromedios(nomArchivo):\n",
    "    # Cargando el archivo xlsm\n",
    "    df = pd.read_excel(nomArchivo, engine='openpyxl')\n",
    "\n",
    "    # Calculando el promedio de los precios y de la calificación\n",
    "    promedio_precios = df['Precio'].mean()\n",
    "    promedio_calificacion = df['Calificacion'].mean()\n",
    "\n",
    "    return promedio_precios, promedio_calificacion\n",
    "\n",
    "# Ejemplo de uso\n",
    "precio_promedio, calificacion_promedio = calcularPromedios('videojuegos1.csv.xlsm')\n",
    "print('El precio promedio es: ', precio_promedio)\n",
    "print('La calificación promedio es: ', calificacion_promedio)"
   ]
  },
  {
   "cell_type": "code",
   "execution_count": 22,
   "metadata": {},
   "outputs": [
    {
     "data": {
      "text/html": [
       "<div>\n",
       "<style scoped>\n",
       "    .dataframe tbody tr th:only-of-type {\n",
       "        vertical-align: middle;\n",
       "    }\n",
       "\n",
       "    .dataframe tbody tr th {\n",
       "        vertical-align: top;\n",
       "    }\n",
       "\n",
       "    .dataframe thead th {\n",
       "        text-align: right;\n",
       "    }\n",
       "</style>\n",
       "<table border=\"1\" class=\"dataframe\">\n",
       "  <thead>\n",
       "    <tr style=\"text-align: right;\">\n",
       "      <th></th>\n",
       "      <th>Nombre,Calificacion,Precio</th>\n",
       "    </tr>\n",
       "  </thead>\n",
       "  <tbody>\n",
       "    <tr>\n",
       "      <th>0</th>\n",
       "      <td>Cuphead,100,180</td>\n",
       "    </tr>\n",
       "    <tr>\n",
       "      <th>1</th>\n",
       "      <td>Doom eternal,99,1400</td>\n",
       "    </tr>\n",
       "    <tr>\n",
       "      <th>2</th>\n",
       "      <td>Horizon Zero Dawn,90,450.7</td>\n",
       "    </tr>\n",
       "    <tr>\n",
       "      <th>3</th>\n",
       "      <td>Resident Evil 2 Remake,95,450.88</td>\n",
       "    </tr>\n",
       "    <tr>\n",
       "      <th>4</th>\n",
       "      <td>Super Mario Odyssey,90,1700.05</td>\n",
       "    </tr>\n",
       "  </tbody>\n",
       "</table>\n",
       "</div>"
      ],
      "text/plain": [
       "         Nombre,Calificacion,Precio\n",
       "0                   Cuphead,100,180\n",
       "1              Doom eternal,99,1400\n",
       "2        Horizon Zero Dawn,90,450.7\n",
       "3  Resident Evil 2 Remake,95,450.88\n",
       "4    Super Mario Odyssey,90,1700.05"
      ]
     },
     "execution_count": 22,
     "metadata": {},
     "output_type": "execute_result"
    }
   ],
   "source": [
    "df = pd.read_excel('videojuegos1.csv.xlsm', engine='openpyxl', )\n",
    "df.head()"
   ]
  },
  {
   "cell_type": "code",
   "execution_count": null,
   "metadata": {},
   "outputs": [],
   "source": [
    "# a) La función juegosConsolas(nomArchivo, categoria, decada) que recibe el\n",
    "# nombre del archivo con la información de los videojuegos, una categoría y\n",
    "# número de cuatro dígitos representando una década de años. La función\n",
    "# retorna una tupla con 2 elementos. El primer elemento es la lista con los\n",
    "# valores únicos de todos los juegos de esa década para esa categoría. El\n",
    "# segundo elemento es la lista con valores únicos de todas las consolas que\n",
    "# tienen juegos para esa década y categoría.\n",
    "\n",
    "\n",
    "\n",
    "def juegosConsolas(nomArchivo, categoria, decada):\n",
    "    # Cargando el archivo csv\n",
    "    df = pd.read_csv(nomArchivo)\n",
    "\n",
    "    # Asegurándonos de que el año está en formato correcto\n",
    "    df['Año'] = df['Año'].astype(int)\n",
    "\n",
    "    # Filtrando por categoría y década\n",
    "    filtered_df = df[(df['Categoría'] == categoria) & (df['Año'] >= decada) & (df['Año'] < decada + 10)]\n",
    "\n",
    "    # Obteniendo los valores únicos de juegos y consolas\n",
    "    juegos_unicos = filtered_df['Juego'].unique().tolist()\n",
    "    consolas_unicas = filtered_df['Consola'].unique().tolist()\n",
    "\n",
    "    return (juegos_unicos, consolas_unicas)\n",
    "\n",
    "# Ejemplo de uso\n",
    "print(juegosConsolas('videojuegos.csv', 'RPG', 1980))\n",
    "\n",
    "\n"
   ]
  },
  {
   "cell_type": "code",
   "execution_count": null,
   "metadata": {},
   "outputs": [],
   "source": [
    "# b) La función crearMatriz(nomArchivo, categoria, decada) que recibe el\n",
    "# nombre del archivo con la información de los videojuegos, el nombre de una\n",
    "# categoría de videojuegos y un número de cuatro dígitos representando una\n",
    "# década de años. La función deberá leer el archivo y retorna una matriz donde\n",
    "# las filas representan los juegos de categoría para la década , las columnas\n",
    "# representan las consolas que tienen juegos de categoría para la década y las\n",
    "# celdas son las calificaciones de cada juego para cada consola. Si un juego no\n",
    "# existe para una consola, su calificación deberá ser cero (0).\n",
    "\n",
    "\n",
    "\n",
    "\n",
    "\n",
    "\n",
    "\n",
    "\n",
    "\n",
    "\n",
    "\n",
    "\n"
   ]
  },
  {
   "cell_type": "code",
   "execution_count": 15,
   "metadata": {},
   "outputs": [
    {
     "name": "stdout",
     "output_type": "stream",
     "text": [
      "Collecting openpyxl\n",
      "  Downloading openpyxl-3.1.2-py2.py3-none-any.whl (249 kB)\n",
      "\u001b[2K     \u001b[90m━━━━━━━━━━━━━━━━━━━━━━━━━━━━━━━━━━━━━━━\u001b[0m \u001b[32m250.0/250.0 kB\u001b[0m \u001b[31m6.5 MB/s\u001b[0m eta \u001b[36m0:00:00\u001b[0ma \u001b[36m0:00:01\u001b[0m\n",
      "\u001b[?25hCollecting et-xmlfile (from openpyxl)\n",
      "  Downloading et_xmlfile-1.1.0-py3-none-any.whl (4.7 kB)\n",
      "Installing collected packages: et-xmlfile, openpyxl\n",
      "Successfully installed et-xmlfile-1.1.0 openpyxl-3.1.2\n",
      "\n",
      "\u001b[1m[\u001b[0m\u001b[34;49mnotice\u001b[0m\u001b[1;39;49m]\u001b[0m\u001b[39;49m A new release of pip is available: \u001b[0m\u001b[31;49m23.1\u001b[0m\u001b[39;49m -> \u001b[0m\u001b[32;49m23.1.2\u001b[0m\n",
      "\u001b[1m[\u001b[0m\u001b[34;49mnotice\u001b[0m\u001b[1;39;49m]\u001b[0m\u001b[39;49m To update, run: \u001b[0m\u001b[32;49mpip install --upgrade pip\u001b[0m\n",
      "Note: you may need to restart the kernel to use updated packages.\n"
     ]
    }
   ],
   "source": []
  },
  {
   "cell_type": "code",
   "execution_count": null,
   "metadata": {},
   "outputs": [],
   "source": []
  }
 ],
 "metadata": {
  "kernelspec": {
   "display_name": ".venv",
   "language": "python",
   "name": "python3"
  },
  "language_info": {
   "codemirror_mode": {
    "name": "ipython",
    "version": 3
   },
   "file_extension": ".py",
   "mimetype": "text/x-python",
   "name": "python",
   "nbconvert_exporter": "python",
   "pygments_lexer": "ipython3",
   "version": "3.10.11"
  },
  "orig_nbformat": 4
 },
 "nbformat": 4,
 "nbformat_minor": 2
}
