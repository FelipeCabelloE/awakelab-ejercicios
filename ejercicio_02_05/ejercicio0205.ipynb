{
 "cells": [
  {
   "cell_type": "code",
   "execution_count": 5,
   "metadata": {},
   "outputs": [
    {
     "name": "stdout",
     "output_type": "stream",
     "text": [
      "B\tI\tN\tG\tO\n",
      "13\t6\t4\t5\t9\n",
      "27\t16\t30\t23\t22\n",
      "34\t32\tLibre\t45\t33\n",
      "57\t47\t52\t58\t51\n",
      "73\t71\t72\t63\t69\n"
     ]
    }
   ],
   "source": [
    "import random\n",
    "\n",
    "def generar_tabla_bingo():\n",
    "    tabla = [['B', 'I', 'N', 'G', 'O']]\n",
    "    rango = {'B': range(1, 16), 'I': range(16, 31), 'N': range(31, 46), 'G': range(46, 61), 'O': range(61, 76)}\n",
    "    \n",
    "    for columna in tabla[0]:\n",
    "        numeros_columna = random.sample(rango[columna], 5)\n",
    "        tabla.append(numeros_columna)\n",
    "    \n",
    "    # Marcar la casilla central como 'Libre'\n",
    "    tabla[3][2] = 'Libre'\n",
    "    \n",
    "    return tabla\n",
    "\n",
    "# Ejemplo\n",
    "tabla_bingo = generar_tabla_bingo()\n",
    "for fila in tabla_bingo:\n",
    "    print('\\t'.join(map(str, fila)))\n",
    "    "
   ]
  },
  {
   "cell_type": "code",
   "execution_count": null,
   "metadata": {},
   "outputs": [],
   "source": []
  }
 ],
 "metadata": {
  "kernelspec": {
   "display_name": ".venv",
   "language": "python",
   "name": "python3"
  },
  "language_info": {
   "codemirror_mode": {
    "name": "ipython",
    "version": 3
   },
   "file_extension": ".py",
   "mimetype": "text/x-python",
   "name": "python",
   "nbconvert_exporter": "python",
   "pygments_lexer": "ipython3",
   "version": "3.10.11"
  },
  "orig_nbformat": 4
 },
 "nbformat": 4,
 "nbformat_minor": 2
}
