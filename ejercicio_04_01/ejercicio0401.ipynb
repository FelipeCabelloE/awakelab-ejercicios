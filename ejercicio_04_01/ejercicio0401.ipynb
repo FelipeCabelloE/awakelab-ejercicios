{
 "cells": [
  {
   "cell_type": "code",
   "execution_count": null,
   "metadata": {},
   "outputs": [],
   "source": []
  },
  {
   "attachments": {},
   "cell_type": "markdown",
   "metadata": {},
   "source": [
    "Caso 1:\n",
    "Un dado está trucado, de forma que las probabilidades de obtener las distintas caras son proporcionales a los números de estas.\n",
    "Hallar:\n",
    "● La probabilidad de obtener el 6 en un lanzamiento.\n",
    "● La probabilidad de conseguir un número impar en un lanzamiento.\n",
    "\n",
    "## Respuesta\n",
    "\n",
    "## 1\n",
    "1k + 2k + 3k + 4k + 5k + 6k = 1\n",
    "21k = 1\n",
    "\n",
    "k = 1/21\n",
    "\n",
    "La probabilidad de obtener el 6 en un lanzamiento:\n",
    "\n",
    "P(6) = 6k = 6 * (1/21) = 6/21 = 2/7 ≈ 0.2857 ≈ 28.57%\n",
    "\n",
    "## 2\n",
    "\n",
    "P(1) = 1k = 1/21\n",
    "P(3) = 3k = 3 * (1/21) = 3/21 = 1/7\n",
    "P(5) = 5k = 5 * (1/21) = 5/21\n",
    "\n",
    "P(impar) = P(1) + P(3) + P(5) = (1/21) + (1/7) + (5/21) = (1 + 3 + 5) / 21 = 9/21 = 3/7 ≈ 0.4286 ≈ 42.86%"
   ]
  },
  {
   "cell_type": "code",
   "execution_count": null,
   "metadata": {},
   "outputs": [],
   "source": []
  },
  {
   "attachments": {},
   "cell_type": "markdown",
   "metadata": {},
   "source": [
    "Caso 2\n",
    "\n",
    "Se lanzan dos dados al aire y se anota la suma de los puntos obtenidos. Se pide:\n",
    "● probabilidad de que salga el 7.\n",
    "● La probabilidad de que el número obtenido sea par.\n",
    "● La probabilidad de que el número obtenido sea múltiplo de 3\n",
    "\n",
    "## Respuesta\n",
    "\n",
    "### 1\n",
    "Las combinaciones que dan 7 son (1, 6), (2, 5), (3, 4), (4, 3), (5, 2), (6, 1). Por lo tanto la probabilidad de obtener un 7 es de 6/36\n",
    "\n",
    "\n",
    "16.67%\n",
    "### 2\n",
    "Numeros pares\n",
    "2: (1,1)\n",
    "4: (1,3), (2,2), (3,1)\n",
    "6: (1,5), (2,4), (3,3), (4,2), (5,1)\n",
    "8: (2,6), (3,5), (4,4), (5,3), (6,2)\n",
    "10: (4,6), (5,5), (6,4)\n",
    "12: (6,6)\n",
    "\n",
    "Como son 18 posibilidades, la probabilidad es de 18/36 o 1/2\n",
    "50%.\n",
    "### 3 \n",
    "Multiplos de 3\n",
    "\n",
    "3: (1,2), (2,1)\n",
    "6: (1,5), (2,4), (3,3), (4,2), (5,1)\n",
    "9: (3,6), (4,5), (5,4), (6,3)\n",
    "12: (6,6)\n",
    "\n",
    "12/36 o 1/3\n",
    "\n",
    "33.33%.\n"
   ]
  },
  {
   "cell_type": "code",
   "execution_count": null,
   "metadata": {},
   "outputs": [],
   "source": []
  },
  {
   "attachments": {},
   "cell_type": "markdown",
   "metadata": {},
   "source": [
    "Caso 3\n",
    "Se lanzan al aire 3 monedas iguales. Calcula la probabilidad de que salgan dos caras y una cruz.\n",
    "\n",
    "## Respuesta\n",
    "\n",
    "Resultados favorables\n",
    "(Ca, Ca, Cr)\n",
    "(Ca, Cr, Ca)\n",
    "(Cr, Ca, Ca)\n",
    "\n",
    "La probabilidad es de 3 / 8 = 0.375\n"
   ]
  },
  {
   "cell_type": "code",
   "execution_count": null,
   "metadata": {},
   "outputs": [],
   "source": []
  },
  {
   "attachments": {},
   "cell_type": "markdown",
   "metadata": {},
   "source": [
    "Caso 4\n",
    "Una bolsa contiene 2 bolas negras y 3 bolas blancas. Otra bolsa tiene 4 bolas negras y 2 blancas. Se elige una de las bolsas al azar y se extrae una bola.\n",
    "Calcular la probabilidad de:\n",
    "a.- La bola es blanca y de la primera bolsa.\n",
    "b.- La bola es blanca.\n",
    "c.- Si la bola es negra, ¿cuál es la probabilidad de que sea de la segunda bolsa?\n",
    "\n",
    "## Respuestas\n",
    "\n",
    "## 1\n",
    "\n",
    "Probabilidad de obtener la primera bolsa\n",
    "\n",
    "P(A1) = P(A2) = 1/2\n",
    "\n",
    "Probabilidad de obtener blanca en la primera bolsa\n",
    "\n",
    "P(B|A1) = (número de bolas blancas en la primera bolsa) / (total de bolas en la primera bolsa) = 3/5\n",
    "\n",
    "Probabilidad de obtener una bola blanca y de la primera bolsa\n",
    "\n",
    "P(B ∩ A1) = P(B|A1) * P(A1) = (3/5) * (1/2) = 3/10\n",
    "\n",
    "\n",
    "\n",
    "## 2\n",
    "Probabilidad de obtener una bola blanca en la segunda bolsa\n",
    "\n",
    "P(B|A2) = (número de bolas blancas en la segunda bolsa) / (total de bolas en la segunda bolsa) = 2/6 = 1/3\n",
    "\n",
    "Probabilidad de obtener una bola blanca de cualquier bolsa\n",
    "P(B) = (3/5) * (1/2) + (1/3) * (1/2) = (3/10) + (1/6) = (9 + 5) / 30 = 14/30 = 7/15\n",
    "\n",
    "## 3\n",
    "\n",
    "P(C|A2) = (número de bolas negras en la segunda bolsa) / (total de bolas en la segunda bolsa) = 4/6 = 2/3\n",
    "\n",
    "\n",
    "P(C ∩ A2) = (2/3) * (1/2) = 2/6\n",
    "P(C ∩ A1) = (3/5) * (1/2) = 3/10\n",
    "\n",
    "la respuesta seria (2/6) / ((2/6) + (3/10)) = 62.5%\n",
    "\n",
    "\n"
   ]
  },
  {
   "cell_type": "code",
   "execution_count": 1,
   "metadata": {},
   "outputs": [
    {
     "name": "stdout",
     "output_type": "stream",
     "text": [
      "0.625\n"
     ]
    }
   ],
   "source": [
    "# Probabilidad de elegir cada bolsa\n",
    "prob_bolsa_1 = 1/2\n",
    "prob_bolsa_2 = 1/2\n",
    "\n",
    "# Probabilidad de extraer una bola blanca de cada bolsa\n",
    "prob_blanca_bolsa_1 = 3/5\n",
    "prob_blanca_bolsa_2 = 2/6\n",
    "\n",
    "# Probabilidad de extraer una bola negra de cada bolsa\n",
    "prob_negra_bolsa_1 = 2/5\n",
    "prob_negra_bolsa_2 = 4/6\n",
    "\n",
    "# c) Probabilidad de que la bola sea negra y de la segunda bolsa\n",
    "prob_c = (prob_bolsa_2 * prob_negra_bolsa_2) / ((prob_bolsa_1 * prob_negra_bolsa_1) + (prob_bolsa_2 * prob_negra_bolsa_2))\n",
    "\n",
    "print(prob_c)"
   ]
  },
  {
   "cell_type": "code",
   "execution_count": null,
   "metadata": {},
   "outputs": [],
   "source": []
  }
 ],
 "metadata": {
  "kernelspec": {
   "display_name": ".venv",
   "language": "python",
   "name": "python3"
  },
  "language_info": {
   "codemirror_mode": {
    "name": "ipython",
    "version": 3
   },
   "file_extension": ".py",
   "mimetype": "text/x-python",
   "name": "python",
   "nbconvert_exporter": "python",
   "pygments_lexer": "ipython3",
   "version": "3.10.11"
  },
  "orig_nbformat": 4
 },
 "nbformat": 4,
 "nbformat_minor": 2
}
