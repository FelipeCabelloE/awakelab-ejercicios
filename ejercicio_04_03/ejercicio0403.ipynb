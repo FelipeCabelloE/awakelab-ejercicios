{
 "cells": [
  {
   "cell_type": "code",
   "execution_count": null,
   "metadata": {},
   "outputs": [],
   "source": []
  },
  {
   "attachments": {},
   "cell_type": "markdown",
   "metadata": {},
   "source": [
    "Se desea tomar una muestra aleatoria estratificada de las personas mayores\n",
    "de edad de un municipio, cuyos estratos son los siguientes intervalos de\n",
    "edades, en años: de 18 a 30, de 31 a 45, de 46 a 60 y mayores de 60. En el\n",
    "primer intervalo hay 7500 personas, en el segundo hay 8400, en el tercero\n",
    "5700 y en el cuarto 3000.\n",
    "\n",
    "Calcule el tamaño de la muestra total y su composición, sabiendo que el\n",
    "muestreo se hace con afijación proporcional y se han elegido al azar 375\n",
    "personas del primer estrato."
   ]
  },
  {
   "cell_type": "code",
   "execution_count": 7,
   "metadata": {},
   "outputs": [
    {
     "name": "stdout",
     "output_type": "stream",
     "text": [
      "El tamaño de la muestra es: 1230.0 personas\n",
      "Hay 375 personas en el primer estrato\n",
      "Hay  420 personas en el segundo estrato\n",
      "Hay  285 personas en el tercer estrato\n",
      "Hay  150 personas en el cuarto estrato\n"
     ]
    }
   ],
   "source": [
    "first_interval = 7500\n",
    "second_interval = 8400\n",
    "third_interval = 5700\n",
    "fourth_interval = 3000\n",
    "\n",
    "#Tamaño de la población\n",
    "population_size = first_interval + second_interval + third_interval + fourth_interval\n",
    "\n",
    "tamagno_sleccion_primer_estrato = 375\n",
    "\n",
    "# Proporcion del primer estrato en relación a la población\n",
    "proporcion_primer_estrato = first_interval  / population_size\n",
    "\n",
    "#TTamaño total de la muestra\n",
    "tamagno_total_muestra = tamagno_sleccion_primer_estrato / proporcion_primer_estrato\n",
    "\n",
    "print(f\"El tamaño de la muestra es: {tamagno_total_muestra} personas\")\n",
    "\n",
    "# Tamaño del segundo estrato\n",
    "\n",
    "tamagno_sleccion_segundo_estrato = second_interval / population_size * tamagno_total_muestra\n",
    "tamagno_sleccion_tercer_estrato = third_interval / population_size * tamagno_total_muestra\n",
    "tamagno_sleccion_cuarto_estrato = fourth_interval / population_size * tamagno_total_muestra\n",
    "\n",
    "# print Tamaño del primer estrato\n",
    "\n",
    "print(f\"Hay {tamagno_sleccion_primer_estrato} personas en el primer estrato\")\n",
    "\n",
    "# print Tamaño del segundo estrato\n",
    "\n",
    "print(f\"Hay {tamagno_sleccion_segundo_estrato: .0f} personas en el segundo estrato\")\n",
    "\n",
    "# print Tamaño del tercer estrato\n",
    "\n",
    "print(f\"Hay {tamagno_sleccion_tercer_estrato: .0f} personas en el tercer estrato\")\n",
    "\n",
    "# print Tamaño del cuarto estrato\n",
    "\n",
    "print(f\"Hay {tamagno_sleccion_cuarto_estrato: .0f} personas en el cuarto estrato\")"
   ]
  },
  {
   "attachments": {},
   "cell_type": "markdown",
   "metadata": {},
   "source": [
    "Si el contenido en gr. de un determinado medicamento X sigue una\n",
    "distribución N(7.5,0.3), calcular la probabilidad de que para una muestra de\n",
    "tamaño n=5, se obtenga medio menor que 7, Pr ( X ≤ 7)."
   ]
  },
  {
   "cell_type": "code",
   "execution_count": 10,
   "metadata": {},
   "outputs": [
    {
     "name": "stdout",
     "output_type": "stream",
     "text": [
      "-3.7267799624996503\n"
     ]
    }
   ],
   "source": [
    "from math import sqrt\n",
    "\n",
    "\n",
    "sample_size = 5\n",
    "mean = 7.5\n",
    "standar_deviation = 0.3\n",
    "\n",
    "z = (7-7.5)/(0.3/sqrt(5))\n",
    "\n",
    "print(z)"
   ]
  },
  {
   "attachments": {},
   "cell_type": "markdown",
   "metadata": {},
   "source": [
    "si z = -3.7267799624996503\n",
    "osea P(z < -3.7267799624996503) = P(z > 3.7267799624996503)\n",
    "entonces buscamos en la tabla de z\n",
    "\n",
    "1 - P(z > 3.7267799624996503) = 1 - 0.9999 = 0.0001\n",
    "\n",
    "hay una probabilidad baja, de 0.01%, de que se obtenga un número menor a 7"
   ]
  },
  {
   "cell_type": "code",
   "execution_count": 9,
   "metadata": {},
   "outputs": [
    {
     "name": "stdout",
     "output_type": "stream",
     "text": [
      "-3.7267799624996503\n"
     ]
    }
   ],
   "source": []
  },
  {
   "cell_type": "code",
   "execution_count": null,
   "metadata": {},
   "outputs": [],
   "source": []
  }
 ],
 "metadata": {
  "kernelspec": {
   "display_name": ".venv",
   "language": "python",
   "name": "python3"
  },
  "language_info": {
   "codemirror_mode": {
    "name": "ipython",
    "version": 3
   },
   "file_extension": ".py",
   "mimetype": "text/x-python",
   "name": "python",
   "nbconvert_exporter": "python",
   "pygments_lexer": "ipython3",
   "version": "3.11.3"
  },
  "orig_nbformat": 4
 },
 "nbformat": 4,
 "nbformat_minor": 2
}
