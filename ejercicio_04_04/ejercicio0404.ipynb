{
 "cells": [
  {
   "cell_type": "code",
   "execution_count": null,
   "metadata": {},
   "outputs": [],
   "source": []
  },
  {
   "attachments": {},
   "cell_type": "markdown",
   "metadata": {},
   "source": [
    "Caso 1\n",
    "Para estimar la proporción de habitantes de una ciudad que poseen ordenador\n",
    "personal se toma una muestra de tamaño n. Calcula el valor mínimo de n para\n",
    "garantizar, con un nivel de confianza del 95 %, que el error de estimación no\n",
    "supera el 2 %. (Como se desconoce la proporción, se hará a partir del caso más\n",
    "desfavorable, que será 0,5).\n",
    "\n",
    " n = (Z^2 * p * (1-p)) / E^2\n",
    "\n",
    " n = (1.96^2 * 0.5 * (1-0.5)) / 0.02^2 = 2401\n",
    "\n",
    " se necesita un ttaoemuestrade al mens 2401 para estimar con un error menor al 2 porciento y un nivel de confianza de 95 %\n"
   ]
  },
  {
   "cell_type": "code",
   "execution_count": 3,
   "metadata": {},
   "outputs": [
    {
     "name": "stdout",
     "output_type": "stream",
     "text": [
      "2400.9999999999995\n"
     ]
    }
   ],
   "source": [
    "n = (1.96**2 * 0.5 * (1-0.5)) / 0.02**2\n",
    "print(n)"
   ]
  },
  {
   "attachments": {},
   "cell_type": "markdown",
   "metadata": {},
   "source": [
    "Caso 2\n",
    "\n",
    "Un fabricante de electrodomésticos sabe que la vida media de estos sigue una\n",
    "distribución normal con media 100 meses y desviación típica 12 meses.\n",
    "Determina el mínimo tamaño muestral que garantiza, con una probabilidad\n",
    "de 0,98, que la vida media de los electrodomésticos en dicha muestra se\n",
    "encuentre entre 90 y 100 meses.\n",
    "\n",
    "\n",
    "Z = (X̄ - μ)/(σ/√n) = (X̄ - 100)/(12/√n). \n",
    "Pr(90 ≤ X̄ ≤ 100) = Pr((90-100)/(12/√n) ≤ Z ≤ (100-100)/(12/√n)) = Pr(-10√n/12 ≤ Z ≤ 0)\n",
    "\n",
    "Se savbe que\n",
    "Pr(Z ≤ -2.33) ≈ 0.01\n",
    "Por lo tanto\n",
    "\n",
    "-10√n/12 ≤ -2.33\n",
    "es\n",
    "n ≥ (2.33*12/10)^2 ≈ 7.81\n",
    "\n",
    "Por lo tanto el minimo tamaño muestral para garantizar que la vida media esté entre 90 y 100 con un 98% es de *8* electrodomésticos\n"
   ]
  },
  {
   "cell_type": "code",
   "execution_count": 4,
   "metadata": {},
   "outputs": [
    {
     "name": "stdout",
     "output_type": "stream",
     "text": [
      "7.817616000000002\n"
     ]
    }
   ],
   "source": [
    "n = (2.33*12/10)**2\n",
    "print(n)"
   ]
  },
  {
   "attachments": {},
   "cell_type": "markdown",
   "metadata": {},
   "source": [
    "Caso 3\n",
    "Se desea obtener la media de una variable aleatoria que se distribuye\n",
    "normalmente con una desviación típica de 3,2. Para ello se toma una muestra\n",
    "de 64 individuos obteniéndose una media de 32,5.\n",
    "\n",
    "a) ¿Con qué nivel de confianza se puede afirmar que la media de la\n",
    "población está entre 31,5 y 33,5?\n",
    "b) Si la desviación típica de la población fuera 3, ¿qué tamaño mínimo\n",
    "debería tener la muestra con la cual estimamos la media poblacional si\n",
    "queremos que el nivel de confianza sea del 99 %, y el error admisible no\n",
    "supere el valor de 0,75?"
   ]
  },
  {
   "attachments": {},
   "cell_type": "markdown",
   "metadata": {},
   "source": [
    "A)\n",
    "σ/√n = 3.2/√64 = 0.4\n",
    "\n",
    "[X̄ - Zσ/√n, X̄ + Zσ/√n]\n",
    "[31.5, 33.5]\n",
    "Z = (33.5-32.5)/0.4 = 2.5\n",
    "\n",
    "Z 2,5 dentro de la tabla normal es de 0.9938\n",
    "\n",
    "1 - 0.9938 = alpha de 0.0124 \n",
    "\n",
    "Por lo tanto la conifanza es de un 98,76\n",
    "---\n",
    "\n",
    "B)\n",
    "Para una confianza de 99% Z = 2.575\n",
    "\n",
    "\n",
    "(2.575^2 * 3^2) / 0.75^2 ≈ 106,09\n",
    "El tamaño mínimo es de 107\n",
    "---"
   ]
  },
  {
   "cell_type": "code",
   "execution_count": 5,
   "metadata": {},
   "outputs": [
    {
     "data": {
      "text/plain": [
       "0.4"
      ]
     },
     "execution_count": 5,
     "metadata": {},
     "output_type": "execute_result"
    }
   ],
   "source": [
    "from math import sqrt\n",
    "\n",
    "\n",
    "3.2/sqrt(64)"
   ]
  },
  {
   "cell_type": "code",
   "execution_count": 6,
   "metadata": {},
   "outputs": [
    {
     "data": {
      "text/plain": [
       "106.09000000000002"
      ]
     },
     "execution_count": 6,
     "metadata": {},
     "output_type": "execute_result"
    }
   ],
   "source": [
    "(2.575**2 * 3**2) / 0.75**2"
   ]
  },
  {
   "cell_type": "code",
   "execution_count": null,
   "metadata": {},
   "outputs": [],
   "source": []
  }
 ],
 "metadata": {
  "kernelspec": {
   "display_name": ".venv",
   "language": "python",
   "name": "python3"
  },
  "language_info": {
   "codemirror_mode": {
    "name": "ipython",
    "version": 3
   },
   "file_extension": ".py",
   "mimetype": "text/x-python",
   "name": "python",
   "nbconvert_exporter": "python",
   "pygments_lexer": "ipython3",
   "version": "3.11.3"
  },
  "orig_nbformat": 4
 },
 "nbformat": 4,
 "nbformat_minor": 2
}
