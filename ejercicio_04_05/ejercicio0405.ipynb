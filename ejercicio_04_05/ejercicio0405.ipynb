{
 "cells": [
  {
   "cell_type": "code",
   "execution_count": 1,
   "metadata": {},
   "outputs": [],
   "source": [
    "import numpy as np\n",
    "from scipy import stats"
   ]
  },
  {
   "cell_type": "code",
   "execution_count": 18,
   "metadata": {},
   "outputs": [
    {
     "name": "stdout",
     "output_type": "stream",
     "text": [
      "Reject the null hypothesis\n",
      "p-value: 0.02225218278641426\n",
      "744.85\n"
     ]
    }
   ],
   "source": [
    "# test scores\n",
    "consumos_empleados = np.array(\n",
    "    [710, 732, 654, 760, 774, 675, 757, 718, 814, 755,\n",
    "                      736, 774, 768, 770, 677, 747, 823, 660, 797, 796]\n",
    ")\n",
    "\n",
    "\n",
    "# Define the null hypothesis value\n",
    "null_value = 721\n",
    "\n",
    "# Perform two-sample t-test\n",
    "_, p_value = stats.ttest_1samp(\n",
    "    consumos_empleados, null_value, alternative='greater'\n",
    ")\n",
    "\n",
    "# Define the significance level (α)\n",
    "alpha = 0.1\n",
    "\n",
    "# Check if the p-value is less than the significance level\n",
    "if p_value < alpha:\n",
    "    print(\"Reject the null hypothesis\")\n",
    "else:\n",
    "    print(\"Fail to reject the null hypothesis\")\n",
    "\n",
    "# Print the computed p-value\n",
    "print(\"p-value:\", p_value)\n",
    "\n",
    "a = consumos_empleados.mean()\n",
    "print(a)\n"
   ]
  },
  {
   "cell_type": "code",
   "execution_count": 13,
   "metadata": {},
   "outputs": [],
   "source": [
    "sample = [710, 732, 654, 760, 774, 675, 757, 718, 814, 755,\n",
    "                      736, 774, 768, 770, 677, 747, 823, 660, 797, 796]\n",
    "mu_0 = 721\n",
    "# Compute the sample mean and standard deviation\n",
    "sample_mean = np.mean(sample)\n",
    "sample_std = np.std(sample, ddof=1)\n",
    "\n",
    "# Compute the t-statistic\n",
    "t_stat = (sample_mean - mu_0) / (sample_std / np.sqrt(len(sample)))\n",
    "\n",
    "# Compute the degrees of freedom\n",
    "df = len(sample) - 1"
   ]
  },
  {
   "cell_type": "code",
   "execution_count": 20,
   "metadata": {},
   "outputs": [
    {
     "name": "stdout",
     "output_type": "stream",
     "text": [
      "p-value: 0.022252182786414276\n"
     ]
    }
   ],
   "source": [
    "# Calculate the p-value for mu >= mu_0\n",
    "p_value_3 = 1 - stats.t.cdf(t_stat, df)\n",
    "\n",
    "print(\"p-value:\", p_value_3)"
   ]
  }
 ],
 "metadata": {
  "kernelspec": {
   "display_name": "Python 3",
   "language": "python",
   "name": "python3"
  },
  "language_info": {
   "codemirror_mode": {
    "name": "ipython",
    "version": 3
   },
   "file_extension": ".py",
   "mimetype": "text/x-python",
   "name": "python",
   "nbconvert_exporter": "python",
   "pygments_lexer": "ipython3",
   "version": "3.10.8"
  },
  "orig_nbformat": 4
 },
 "nbformat": 4,
 "nbformat_minor": 2
}
