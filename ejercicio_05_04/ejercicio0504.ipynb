{
 "cells": [
  {
   "cell_type": "code",
   "execution_count": 1,
   "metadata": {},
   "outputs": [],
   "source": [
    "import seaborn as sns\n",
    "import pandas as pd\n",
    "from sklearn.model_selection import train_test_split\n",
    "from sklearn.linear_model import LogisticRegression\n",
    "from sklearn.metrics import accuracy_score\n",
    "import matplotlib.pyplot as plt\n",
    "from IPython.display import display "
   ]
  },
  {
   "cell_type": "code",
   "execution_count": 8,
   "metadata": {},
   "outputs": [
    {
     "data": {
      "text/plain": [
       "array(['Admin Offices', 'Executive Office', 'IT/IS', 'Production',\n",
       "       'Sales', 'Software Engineering'], dtype=object)"
      ]
     },
     "metadata": {},
     "output_type": "display_data"
    },
    {
     "data": {
      "text/plain": [
       "array(['Accountant I', 'Administrative Assistant',\n",
       "       'Shared Services Manager', 'Sr. Accountant', 'President & CEO',\n",
       "       'CIO', 'Database Administrator', 'IT Director', 'IT Manager - DB',\n",
       "       'IT Manager - Infra', 'IT Manager - Support', 'IT Support',\n",
       "       'Network Engineer', 'Sr. DBA', 'Sr. Network Engineer',\n",
       "       'Director of Operations', 'Production Manager',\n",
       "       'Production Technician I', 'Production Technician II',\n",
       "       'Area Sales Manager', 'Director of Sales', 'Sales Manager',\n",
       "       'Software Engineer', 'Software Engineering Manager', 'BI Director',\n",
       "       'Senior BI Developer', 'BI Developer', 'Data Architect'],\n",
       "      dtype=object)"
      ]
     },
     "metadata": {},
     "output_type": "display_data"
    },
    {
     "data": {
      "text/plain": [
       "array(['Fully Meets', 'N/A- too early to review', '90-day meets',\n",
       "       'Exceptional', 'Needs Improvement', 'Exceeds', 'PIP'], dtype=object)"
      ]
     },
     "metadata": {},
     "output_type": "display_data"
    },
    {
     "data": {
      "text/plain": [
       "array(['Female', 'Male'], dtype=object)"
      ]
     },
     "metadata": {},
     "output_type": "display_data"
    },
    {
     "data": {
      "text/plain": [
       "[None, None, None, None]"
      ]
     },
     "execution_count": 8,
     "metadata": {},
     "output_type": "execute_result"
    }
   ],
   "source": [
    "# Load the rrhh cdv dataset from seaborn\n",
    "rrhh_df = pd.read_csv('rrhh.csv')\n",
    "\n",
    "\n",
    "cat_val = [rrhh_df.Departamento.unique(),\n",
    "rrhh_df.Posicion.unique(),\n",
    "rrhh_df.Desempeño.unique(),\n",
    "rrhh_df.Sexo.unique()]\n",
    "\n",
    "[display(data) for data in cat_val]\n",
    "\n"
   ]
  },
  {
   "cell_type": "code",
   "execution_count": 9,
   "metadata": {},
   "outputs": [
    {
     "data": {
      "text/html": [
       "<div>\n",
       "<style scoped>\n",
       "    .dataframe tbody tr th:only-of-type {\n",
       "        vertical-align: middle;\n",
       "    }\n",
       "\n",
       "    .dataframe tbody tr th {\n",
       "        vertical-align: top;\n",
       "    }\n",
       "\n",
       "    .dataframe thead th {\n",
       "        text-align: right;\n",
       "    }\n",
       "</style>\n",
       "<table border=\"1\" class=\"dataframe\">\n",
       "  <thead>\n",
       "    <tr style=\"text-align: right;\">\n",
       "      <th></th>\n",
       "      <th>Estado</th>\n",
       "      <th>Edad</th>\n",
       "      <th>Ratio.Pago</th>\n",
       "      <th>Salario</th>\n",
       "      <th>Dias.trabajados</th>\n",
       "      <th>Ausencias</th>\n",
       "      <th>Sexo</th>\n",
       "      <th>Estado.Civil</th>\n",
       "      <th>Departamento</th>\n",
       "      <th>Posicion</th>\n",
       "      <th>Desempeño</th>\n",
       "    </tr>\n",
       "  </thead>\n",
       "  <tbody>\n",
       "    <tr>\n",
       "      <th>0</th>\n",
       "      <td>0</td>\n",
       "      <td>30.0</td>\n",
       "      <td>28.50</td>\n",
       "      <td>4167.066667</td>\n",
       "      <td>3317</td>\n",
       "      <td>1</td>\n",
       "      <td>Female</td>\n",
       "      <td>2</td>\n",
       "      <td>Admin Offices</td>\n",
       "      <td>Accountant I</td>\n",
       "      <td>Fully Meets</td>\n",
       "    </tr>\n",
       "    <tr>\n",
       "      <th>1</th>\n",
       "      <td>0</td>\n",
       "      <td>34.0</td>\n",
       "      <td>23.00</td>\n",
       "      <td>6962.466667</td>\n",
       "      <td>1420</td>\n",
       "      <td>17</td>\n",
       "      <td>Male</td>\n",
       "      <td>1</td>\n",
       "      <td>Admin Offices</td>\n",
       "      <td>Accountant I</td>\n",
       "      <td>Fully Meets</td>\n",
       "    </tr>\n",
       "    <tr>\n",
       "      <th>2</th>\n",
       "      <td>0</td>\n",
       "      <td>31.0</td>\n",
       "      <td>29.00</td>\n",
       "      <td>4330.333333</td>\n",
       "      <td>1154</td>\n",
       "      <td>3</td>\n",
       "      <td>Male</td>\n",
       "      <td>4</td>\n",
       "      <td>Admin Offices</td>\n",
       "      <td>Accountant I</td>\n",
       "      <td>Fully Meets</td>\n",
       "    </tr>\n",
       "    <tr>\n",
       "      <th>3</th>\n",
       "      <td>0</td>\n",
       "      <td>32.0</td>\n",
       "      <td>21.50</td>\n",
       "      <td>4332.733333</td>\n",
       "      <td>58</td>\n",
       "      <td>15</td>\n",
       "      <td>Female</td>\n",
       "      <td>2</td>\n",
       "      <td>Admin Offices</td>\n",
       "      <td>Administrative Assistant</td>\n",
       "      <td>N/A- too early to review</td>\n",
       "    </tr>\n",
       "    <tr>\n",
       "      <th>4</th>\n",
       "      <td>0</td>\n",
       "      <td>30.0</td>\n",
       "      <td>16.56</td>\n",
       "      <td>3388.333333</td>\n",
       "      <td>940</td>\n",
       "      <td>2</td>\n",
       "      <td>Female</td>\n",
       "      <td>4</td>\n",
       "      <td>Admin Offices</td>\n",
       "      <td>Administrative Assistant</td>\n",
       "      <td>N/A- too early to review</td>\n",
       "    </tr>\n",
       "  </tbody>\n",
       "</table>\n",
       "</div>"
      ],
      "text/plain": [
       "   Estado  Edad  Ratio.Pago      Salario  Dias.trabajados  Ausencias    Sexo   \n",
       "0       0  30.0       28.50  4167.066667             3317          1  Female  \\\n",
       "1       0  34.0       23.00  6962.466667             1420         17    Male   \n",
       "2       0  31.0       29.00  4330.333333             1154          3    Male   \n",
       "3       0  32.0       21.50  4332.733333               58         15  Female   \n",
       "4       0  30.0       16.56  3388.333333              940          2  Female   \n",
       "\n",
       "   Estado.Civil   Departamento                  Posicion   \n",
       "0             2  Admin Offices              Accountant I  \\\n",
       "1             1  Admin Offices              Accountant I   \n",
       "2             4  Admin Offices              Accountant I   \n",
       "3             2  Admin Offices  Administrative Assistant   \n",
       "4             4  Admin Offices  Administrative Assistant   \n",
       "\n",
       "                  Desempeño  \n",
       "0               Fully Meets  \n",
       "1               Fully Meets  \n",
       "2               Fully Meets  \n",
       "3  N/A- too early to review  \n",
       "4  N/A- too early to review  "
      ]
     },
     "execution_count": 9,
     "metadata": {},
     "output_type": "execute_result"
    }
   ],
   "source": [
    "rrhh_df.head()"
   ]
  },
  {
   "cell_type": "code",
   "execution_count": null,
   "metadata": {},
   "outputs": [],
   "source": [
    "# Split the data into training and testing sets\n",
    "X_train, X_test, y_train, y_test = train_test_split(\n",
    "    titanic.drop('survived', axis=1),\n",
    "    titanic['survived'],\n",
    "    test_size=0.2, random_state=0\n",
    ")\n",
    "# Create the logistic regression model\n",
    "model = LogisticRegression(max_iter=1000)\n",
    "\n",
    "# Train the model\n",
    "model.fit(X_train, y_train)\n",
    "# Make predictions\n",
    "y_pred = model.predict(X_test)\n",
    "\n",
    "# Calculate accuracy score\n",
    "accuracy = accuracy_score(y_test, y_pred)\n",
    "print(\"Accuracy:\", accuracy)"
   ]
  }
 ],
 "metadata": {
  "kernelspec": {
   "display_name": ".venv",
   "language": "python",
   "name": "python3"
  },
  "language_info": {
   "codemirror_mode": {
    "name": "ipython",
    "version": 3
   },
   "file_extension": ".py",
   "mimetype": "text/x-python",
   "name": "python",
   "nbconvert_exporter": "python",
   "pygments_lexer": "ipython3",
   "version": "3.10.11"
  },
  "orig_nbformat": 4
 },
 "nbformat": 4,
 "nbformat_minor": 2
}
