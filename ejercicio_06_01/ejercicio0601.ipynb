{
 "cells": [
  {
   "cell_type": "code",
   "execution_count": null,
   "metadata": {},
   "outputs": [],
   "source": []
  },
  {
   "attachments": {},
   "cell_type": "markdown",
   "metadata": {},
   "source": [
    "El \"Aprendizaje de máquina\" es un campo de la informática que utiliza algoritmos y modelos estadísticos para realizar tareas sin instrucciones explícitas. Es visto como un subconjunto de la inteligencia artificial.\n",
    "\n",
    "Los \"Modelos no supervisados\" son un tipo de algoritmo de aprendizaje de máquina que no utiliza datos etiquetados para el entrenamiento. En cambio, se centra en descubrir patrones ocultos y estructuras dentro de los datos. Un uso común de los modelos no supervisados es la detección de \"Anomalías\", donde el objetivo es identificar datos que se desvían significativamente de la norma.\n",
    "\n",
    "La \"Segmentación\" es otra aplicación común de los modelos no supervisados, donde el objetivo es agrupar datos similares en conjuntos o segmentos.\n",
    "\n",
    "La \"Data compression\" es el proceso de reducir el tamaño de los datos sin perder la capacidad de reconstruir los datos originales. Esto se puede hacer de dos maneras: \"Compresión con pérdida\" y \"Compresión sin pérdida\".\n",
    "\n",
    "La \"Compresión con pérdida\" reduce el tamaño de los datos eliminando cierta información, lo que resulta en una reconstrucción que es una aproximación de los datos originales. Por otro lado, la \"Compresión sin pérdida\" reduce el tamaño de los datos sin perder ninguna información, permitiendo una reconstrucción perfecta de los datos originales."
   ]
  }
 ],
 "metadata": {
  "language_info": {
   "name": "python"
  },
  "orig_nbformat": 4
 },
 "nbformat": 4,
 "nbformat_minor": 2
}
