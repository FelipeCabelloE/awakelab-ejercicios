{
  "nbformat": 4,
  "nbformat_minor": 0,
  "metadata": {
    "colab": {
      "provenance": []
    },
    "kernelspec": {
      "name": "python3",
      "display_name": "Python 3"
    },
    "language_info": {
      "name": "python"
    }
  },
  "cells": [
    {
      "cell_type": "code",
      "source": [
        "!pip install pyspark"
      ],
      "metadata": {
        "colab": {
          "base_uri": "https://localhost:8080/"
        },
        "id": "MFUv1PDc7Im8",
        "outputId": "68b0642e-83bd-4d0c-ba71-51e7ea265f7d"
      },
      "execution_count": 3,
      "outputs": [
        {
          "output_type": "stream",
          "name": "stdout",
          "text": [
            "Looking in indexes: https://pypi.org/simple, https://us-python.pkg.dev/colab-wheels/public/simple/\n",
            "Collecting pyspark\n",
            "  Downloading pyspark-3.4.0.tar.gz (310.8 MB)\n",
            "\u001b[2K     \u001b[90m━━━━━━━━━━━━━━━━━━━━━━━━━━━━━━━━━━━━━━━\u001b[0m \u001b[32m310.8/310.8 MB\u001b[0m \u001b[31m2.8 MB/s\u001b[0m eta \u001b[36m0:00:00\u001b[0m\n",
            "\u001b[?25h  Preparing metadata (setup.py) ... \u001b[?25l\u001b[?25hdone\n",
            "Requirement already satisfied: py4j==0.10.9.7 in /usr/local/lib/python3.10/dist-packages (from pyspark) (0.10.9.7)\n",
            "Building wheels for collected packages: pyspark\n",
            "  Building wheel for pyspark (setup.py) ... \u001b[?25l\u001b[?25hdone\n",
            "  Created wheel for pyspark: filename=pyspark-3.4.0-py2.py3-none-any.whl size=311317130 sha256=0586a6c2bbe2a6be1599bbf604426b6e7ec09297bd18ffc09799d5a67d3c8763\n",
            "  Stored in directory: /root/.cache/pip/wheels/7b/1b/4b/3363a1d04368e7ff0d408e57ff57966fcdf00583774e761327\n",
            "Successfully built pyspark\n",
            "Installing collected packages: pyspark\n",
            "Successfully installed pyspark-3.4.0\n"
          ]
        }
      ]
    },
    {
      "cell_type": "code",
      "source": [
        "from pyspark.ml.feature import StandardScaler\n",
        "from pyspark.ml.linalg import Vectors\n",
        "from pyspark.ml.feature import VectorAssembler\n",
        "from pyspark.ml.classification import LogisticRegression\n",
        "from pyspark.sql.functions import col"
      ],
      "metadata": {
        "id": "I_wLnia68P9z"
      },
      "execution_count": 21,
      "outputs": []
    },
    {
      "cell_type": "code",
      "execution_count": 10,
      "metadata": {
        "id": "rRHPJT-068eu"
      },
      "outputs": [],
      "source": [
        "from pyspark import SparkContext, SparkConf\n",
        "from pyspark.sql.types import IntegerType\n",
        "# Importar librerias\n",
        "from pyspark.sql.functions import udf\n",
        "# Crear una configuración de Spark\n",
        "conf = SparkConf().setAppName(\"MyApp\").setMaster(\"local[*]\")\n",
        "\n",
        "sc = SparkContext(conf=conf)\n",
        "\n",
        "from pyspark.sql import SparkSession\n",
        "spark = SparkSession(sc)\n",
        "\n"
      ]
    },
    {
      "cell_type": "code",
      "source": [],
      "metadata": {
        "id": "tOTrfjlM74HB"
      },
      "execution_count": 9,
      "outputs": []
    },
    {
      "cell_type": "code",
      "source": [
        "df = spark.read.csv(\"heart.dat\", header=False, sep=' ', inferSchema=True)\n",
        "\n",
        "# set column names\n",
        "schema = ['Años','Sexo','Tipo_dolor_toracico','Presion_arterial_reposo','Colesterol_serico','Azucar_sangre_ayunas',\n",
        "            'Resultados_electrocardiográficos_reposo', 'Frecuencia_cardíaca_máxima', 'Angina_inducida_ejercicio',\n",
        "            'Oldpeak', 'Pendiente_segmento ST','Número_vasos_principales','Thal','Target']\n",
        "for i in range(len(schema)):\n",
        "    col = '_c'+str(i) # nombre de la columna\n",
        "    #df = df.withColumn(col, df[col].cast(FloatType())) # convertir a FloatType\n",
        "    df = df.withColumnRenamed(col, schema[i]) # renombrar columnas\n",
        "\n",
        "# drop column Target\n",
        "df = df.drop('Target')\n",
        "\n",
        "\n",
        "\n",
        "# Ver el esquema de los datos\n",
        "df.printSchema()\n",
        "\n",
        "# Ver los datos\n",
        "df.show()"
      ],
      "metadata": {
        "colab": {
          "base_uri": "https://localhost:8080/"
        },
        "id": "oE0KcMwq7Az2",
        "outputId": "ffc393eb-a2b3-46e4-ba65-0f9c62a5d341"
      },
      "execution_count": 11,
      "outputs": [
        {
          "output_type": "stream",
          "name": "stdout",
          "text": [
            "root\n",
            " |-- Años: double (nullable = true)\n",
            " |-- Sexo: double (nullable = true)\n",
            " |-- Tipo_dolor_toracico: double (nullable = true)\n",
            " |-- Presion_arterial_reposo: double (nullable = true)\n",
            " |-- Colesterol_serico: double (nullable = true)\n",
            " |-- Azucar_sangre_ayunas: double (nullable = true)\n",
            " |-- Resultados_electrocardiográficos_reposo: double (nullable = true)\n",
            " |-- Frecuencia_cardíaca_máxima: double (nullable = true)\n",
            " |-- Angina_inducida_ejercicio: double (nullable = true)\n",
            " |-- Oldpeak: double (nullable = true)\n",
            " |-- Pendiente_segmento ST: double (nullable = true)\n",
            " |-- Número_vasos_principales: double (nullable = true)\n",
            " |-- Thal: double (nullable = true)\n",
            "\n",
            "+----+----+-------------------+-----------------------+-----------------+--------------------+---------------------------------------+--------------------------+-------------------------+-------+---------------------+------------------------+----+\n",
            "|Años|Sexo|Tipo_dolor_toracico|Presion_arterial_reposo|Colesterol_serico|Azucar_sangre_ayunas|Resultados_electrocardiográficos_reposo|Frecuencia_cardíaca_máxima|Angina_inducida_ejercicio|Oldpeak|Pendiente_segmento ST|Número_vasos_principales|Thal|\n",
            "+----+----+-------------------+-----------------------+-----------------+--------------------+---------------------------------------+--------------------------+-------------------------+-------+---------------------+------------------------+----+\n",
            "|70.0| 1.0|                4.0|                  130.0|            322.0|                 0.0|                                    2.0|                     109.0|                      0.0|    2.4|                  2.0|                     3.0| 3.0|\n",
            "|67.0| 0.0|                3.0|                  115.0|            564.0|                 0.0|                                    2.0|                     160.0|                      0.0|    1.6|                  2.0|                     0.0| 7.0|\n",
            "|57.0| 1.0|                2.0|                  124.0|            261.0|                 0.0|                                    0.0|                     141.0|                      0.0|    0.3|                  1.0|                     0.0| 7.0|\n",
            "|64.0| 1.0|                4.0|                  128.0|            263.0|                 0.0|                                    0.0|                     105.0|                      1.0|    0.2|                  2.0|                     1.0| 7.0|\n",
            "|74.0| 0.0|                2.0|                  120.0|            269.0|                 0.0|                                    2.0|                     121.0|                      1.0|    0.2|                  1.0|                     1.0| 3.0|\n",
            "|65.0| 1.0|                4.0|                  120.0|            177.0|                 0.0|                                    0.0|                     140.0|                      0.0|    0.4|                  1.0|                     0.0| 7.0|\n",
            "|56.0| 1.0|                3.0|                  130.0|            256.0|                 1.0|                                    2.0|                     142.0|                      1.0|    0.6|                  2.0|                     1.0| 6.0|\n",
            "|59.0| 1.0|                4.0|                  110.0|            239.0|                 0.0|                                    2.0|                     142.0|                      1.0|    1.2|                  2.0|                     1.0| 7.0|\n",
            "|60.0| 1.0|                4.0|                  140.0|            293.0|                 0.0|                                    2.0|                     170.0|                      0.0|    1.2|                  2.0|                     2.0| 7.0|\n",
            "|63.0| 0.0|                4.0|                  150.0|            407.0|                 0.0|                                    2.0|                     154.0|                      0.0|    4.0|                  2.0|                     3.0| 7.0|\n",
            "|59.0| 1.0|                4.0|                  135.0|            234.0|                 0.0|                                    0.0|                     161.0|                      0.0|    0.5|                  2.0|                     0.0| 7.0|\n",
            "|53.0| 1.0|                4.0|                  142.0|            226.0|                 0.0|                                    2.0|                     111.0|                      1.0|    0.0|                  1.0|                     0.0| 7.0|\n",
            "|44.0| 1.0|                3.0|                  140.0|            235.0|                 0.0|                                    2.0|                     180.0|                      0.0|    0.0|                  1.0|                     0.0| 3.0|\n",
            "|61.0| 1.0|                1.0|                  134.0|            234.0|                 0.0|                                    0.0|                     145.0|                      0.0|    2.6|                  2.0|                     2.0| 3.0|\n",
            "|57.0| 0.0|                4.0|                  128.0|            303.0|                 0.0|                                    2.0|                     159.0|                      0.0|    0.0|                  1.0|                     1.0| 3.0|\n",
            "|71.0| 0.0|                4.0|                  112.0|            149.0|                 0.0|                                    0.0|                     125.0|                      0.0|    1.6|                  2.0|                     0.0| 3.0|\n",
            "|46.0| 1.0|                4.0|                  140.0|            311.0|                 0.0|                                    0.0|                     120.0|                      1.0|    1.8|                  2.0|                     2.0| 7.0|\n",
            "|53.0| 1.0|                4.0|                  140.0|            203.0|                 1.0|                                    2.0|                     155.0|                      1.0|    3.1|                  3.0|                     0.0| 7.0|\n",
            "|64.0| 1.0|                1.0|                  110.0|            211.0|                 0.0|                                    2.0|                     144.0|                      1.0|    1.8|                  2.0|                     0.0| 3.0|\n",
            "|40.0| 1.0|                1.0|                  140.0|            199.0|                 0.0|                                    0.0|                     178.0|                      1.0|    1.4|                  1.0|                     0.0| 7.0|\n",
            "+----+----+-------------------+-----------------------+-----------------+--------------------+---------------------------------------+--------------------------+-------------------------+-------+---------------------+------------------------+----+\n",
            "only showing top 20 rows\n",
            "\n"
          ]
        }
      ]
    },
    {
      "cell_type": "code",
      "source": [
        "\n",
        "\n",
        "# Crear la funcion\n",
        "def ENFERMO(x):\n",
        "    if x in(3, 6): # 3 = normal; 6 = problema solucionado\n",
        "        return 0\n",
        "    else:\n",
        "        return 1\n",
        "\n",
        "# Crear la funcion UDf\n",
        "udfENFERMO = udf(ENFERMO, IntegerType())\n",
        "\n",
        "# Aplicar la funcion UDF a la columna target usando el valor de that\n",
        "df = df.withColumn(\"Target\", udfENFERMO(\"Thal\") )\n",
        "\n",
        "# Ver los datos\n",
        "df.show(5)\n"
      ],
      "metadata": {
        "colab": {
          "base_uri": "https://localhost:8080/"
        },
        "id": "HCp5OHw_7ES9",
        "outputId": "5c7964bc-c14f-44f6-fd95-d784e89b0c16"
      },
      "execution_count": 12,
      "outputs": [
        {
          "output_type": "stream",
          "name": "stdout",
          "text": [
            "+----+----+-------------------+-----------------------+-----------------+--------------------+---------------------------------------+--------------------------+-------------------------+-------+---------------------+------------------------+----+------+\n",
            "|Años|Sexo|Tipo_dolor_toracico|Presion_arterial_reposo|Colesterol_serico|Azucar_sangre_ayunas|Resultados_electrocardiográficos_reposo|Frecuencia_cardíaca_máxima|Angina_inducida_ejercicio|Oldpeak|Pendiente_segmento ST|Número_vasos_principales|Thal|Target|\n",
            "+----+----+-------------------+-----------------------+-----------------+--------------------+---------------------------------------+--------------------------+-------------------------+-------+---------------------+------------------------+----+------+\n",
            "|70.0| 1.0|                4.0|                  130.0|            322.0|                 0.0|                                    2.0|                     109.0|                      0.0|    2.4|                  2.0|                     3.0| 3.0|     0|\n",
            "|67.0| 0.0|                3.0|                  115.0|            564.0|                 0.0|                                    2.0|                     160.0|                      0.0|    1.6|                  2.0|                     0.0| 7.0|     1|\n",
            "|57.0| 1.0|                2.0|                  124.0|            261.0|                 0.0|                                    0.0|                     141.0|                      0.0|    0.3|                  1.0|                     0.0| 7.0|     1|\n",
            "|64.0| 1.0|                4.0|                  128.0|            263.0|                 0.0|                                    0.0|                     105.0|                      1.0|    0.2|                  2.0|                     1.0| 7.0|     1|\n",
            "|74.0| 0.0|                2.0|                  120.0|            269.0|                 0.0|                                    2.0|                     121.0|                      1.0|    0.2|                  1.0|                     1.0| 3.0|     0|\n",
            "+----+----+-------------------+-----------------------+-----------------+--------------------+---------------------------------------+--------------------------+-------------------------+-------+---------------------+------------------------+----+------+\n",
            "only showing top 5 rows\n",
            "\n"
          ]
        }
      ]
    },
    {
      "cell_type": "code",
      "source": [
        "# set columns except the col Target\n",
        "columns = df.columns\n",
        "columns.remove('Target')\n",
        "\n",
        "\n",
        "# Crear el vector assembler\n",
        "assembler = VectorAssembler(inputCols=columns, outputCol='features')\n",
        "\n",
        "# Transformar los datos\n",
        "raw_data = assembler.transform(df).select(\"features\", \"Target\")\n",
        "\n",
        "# Ver los datos\n",
        "raw_data.show(5)\n"
      ],
      "metadata": {
        "colab": {
          "base_uri": "https://localhost:8080/"
        },
        "id": "BpkNdONg8KQM",
        "outputId": "2235e383-4145-4539-a1e7-561e7d909bae"
      },
      "execution_count": 16,
      "outputs": [
        {
          "output_type": "stream",
          "name": "stdout",
          "text": [
            "+--------------------+------+\n",
            "|            features|Target|\n",
            "+--------------------+------+\n",
            "|[70.0,1.0,4.0,130...|     0|\n",
            "|[67.0,0.0,3.0,115...|     1|\n",
            "|[57.0,1.0,2.0,124...|     1|\n",
            "|[64.0,1.0,4.0,128...|     1|\n",
            "|[74.0,0.0,2.0,120...|     0|\n",
            "+--------------------+------+\n",
            "only showing top 5 rows\n",
            "\n"
          ]
        }
      ]
    },
    {
      "cell_type": "code",
      "source": [
        "# Crear el objeto StandardScaler\n",
        "scaler = StandardScaler(inputCol=\"features\", outputCol=\"scaledFeatures\",\n",
        "                        withStd=True, withMean=True)\n",
        "\n",
        "# Calcular la media y la desviacion estandar\n",
        "scalerModel = scaler.fit(raw_data)\n",
        "\n",
        "# Normalizar los datos\n",
        "scaledData = scalerModel.transform(raw_data)\n"
      ],
      "metadata": {
        "id": "xms1VHd18KkT"
      },
      "execution_count": 17,
      "outputs": []
    },
    {
      "cell_type": "code",
      "source": [
        "scaledData.show(5)"
      ],
      "metadata": {
        "colab": {
          "base_uri": "https://localhost:8080/"
        },
        "id": "x1f5IGDk8CBw",
        "outputId": "5a9a595f-7194-4e97-a74f-e755079da8bc"
      },
      "execution_count": 18,
      "outputs": [
        {
          "output_type": "stream",
          "name": "stdout",
          "text": [
            "+--------------------+------+--------------------+\n",
            "|            features|Target|      scaledFeatures|\n",
            "+--------------------+------+--------------------+\n",
            "|[70.0,1.0,4.0,130...|     0|[1.70892007713705...|\n",
            "|[67.0,0.0,3.0,115...|     1|[1.37957787811706...|\n",
            "|[57.0,1.0,2.0,124...|     1|[0.28177054805043...|\n",
            "|[64.0,1.0,4.0,128...|     1|[1.05023567909707...|\n",
            "|[74.0,0.0,2.0,120...|     0|[2.14804300916370...|\n",
            "+--------------------+------+--------------------+\n",
            "only showing top 5 rows\n",
            "\n"
          ]
        }
      ]
    },
    {
      "cell_type": "code",
      "source": [
        "train_data, test_data = scaledData.randomSplit([0.5, 0.5])\n",
        "\n",
        "train_data.show(5)"
      ],
      "metadata": {
        "colab": {
          "base_uri": "https://localhost:8080/"
        },
        "id": "Zf83zjWQ8Fjz",
        "outputId": "9870b51e-d584-4794-dbb7-4831c1d5b3b6"
      },
      "execution_count": 19,
      "outputs": [
        {
          "output_type": "stream",
          "name": "stdout",
          "text": [
            "+--------------------+------+--------------------+\n",
            "|            features|Target|      scaledFeatures|\n",
            "+--------------------+------+--------------------+\n",
            "|(13,[0,2,3,4,7,10...|     0|[-1.9138441120828...|\n",
            "|(13,[0,2,3,4,7,10...|     0|[-1.4747211800561...|\n",
            "|(13,[0,2,3,4,7,10...|     0|[-1.3649404470495...|\n",
            "|(13,[0,2,3,4,7,10...|     0|[-1.0355982480295...|\n",
            "|(13,[0,2,3,4,7,10...|     0|[-0.9258175150228...|\n",
            "+--------------------+------+--------------------+\n",
            "only showing top 5 rows\n",
            "\n"
          ]
        }
      ]
    },
    {
      "cell_type": "code",
      "source": [
        "model = LogisticRegression(labelCol=\"Target\", featuresCol=\"scaledFeatures\")\n",
        "\n",
        "# Entrenar\n",
        "trainedModel = model.fit(train_data)\n",
        "\n",
        "# Imprima los coeficientes y el intercepto para el modelo de regresión logística\n",
        "print(\"Coeficientes: \" + str(trainedModel.coefficients))\n",
        "print(\"Intercepto: \" + str(trainedModel.intercept))\n"
      ],
      "metadata": {
        "colab": {
          "base_uri": "https://localhost:8080/"
        },
        "id": "UpDH-r828U0w",
        "outputId": "421d9ec6-3eb2-423f-e15d-36ce2ec52acd"
      },
      "execution_count": 22,
      "outputs": [
        {
          "output_type": "stream",
          "name": "stdout",
          "text": [
            "Coeficientes: [2.279236582018356,-7.321900982973219,-3.6188770786485365,-3.499863200458144,-4.382683554822123,2.401887609668977,9.395467841324818,9.069128223844562,4.2054576185988095,9.489100836342388,-5.521908425622844,7.589740492829675,41.936818804996584]\n",
            "Intercepto: -10.2440096335291\n"
          ]
        }
      ]
    },
    {
      "cell_type": "code",
      "source": [
        "def RESULT(x, y):\n",
        "    if int(x) == int(y):\n",
        "        return 1\n",
        "    else:\n",
        "        return 0\n",
        "\n",
        "udfCHECK_RESULT = udf(RESULT, IntegerType())\n",
        "predictions = trainedModel.transform(test_data)\n",
        "predictions = predictions.withColumn(\"correct\", udfCHECK_RESULT(\"Target\", \"prediction\"))\n",
        "\n",
        "# Ver los datos\n",
        "predictions.show(5)\n",
        "\n",
        "# conteo de datos\n",
        "print(f\"Aciertos: \",predictions.filter(predictions.correct == 1).count(),\" de \", predictions.count())"
      ],
      "metadata": {
        "colab": {
          "base_uri": "https://localhost:8080/"
        },
        "id": "RsDwRAGg8dug",
        "outputId": "4752c6aa-5d02-4a40-b36b-9df3f1eb6c83"
      },
      "execution_count": 23,
      "outputs": [
        {
          "output_type": "stream",
          "name": "stdout",
          "text": [
            "+--------------------+------+--------------------+--------------------+--------------------+----------+-------+\n",
            "|            features|Target|      scaledFeatures|       rawPrediction|         probability|prediction|correct|\n",
            "+--------------------+------+--------------------+--------------------+--------------------+----------+-------+\n",
            "|(13,[0,2,3,4,7,10...|     0|[-1.6942826460694...|[38.8060576690031...|           [1.0,0.0]|       0.0|      1|\n",
            "|(13,[0,2,3,4,7,10...|     0|[-0.5964753160028...|[59.3662470566400...|           [1.0,0.0]|       0.0|      1|\n",
            "|(13,[0,2,3,4,7,10...|     0|[0.83067421308374...|[49.8501347095161...|           [1.0,0.0]|       0.0|      1|\n",
            "|[35.0,0.0,4.0,138...|     0|[-2.1334055780961...|[38.1059730419107...|           [1.0,0.0]|       0.0|      1|\n",
            "|[35.0,1.0,4.0,120...|     1|[-2.1334055780961...|[-16.190660493565...|[9.30005354236634...|       1.0|      1|\n",
            "+--------------------+------+--------------------+--------------------+--------------------+----------+-------+\n",
            "only showing top 5 rows\n",
            "\n",
            "Aciertos:  127  de  137\n"
          ]
        }
      ]
    },
    {
      "cell_type": "code",
      "source": [
        "spark.stop()\n"
      ],
      "metadata": {
        "id": "D6jutMkG8mLY"
      },
      "execution_count": 24,
      "outputs": []
    },
    {
      "cell_type": "code",
      "source": [],
      "metadata": {
        "id": "P7xJ4ARp8qE_"
      },
      "execution_count": null,
      "outputs": []
    }
  ]
}