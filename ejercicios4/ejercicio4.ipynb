{
 "cells": [
  {
   "cell_type": "markdown",
   "metadata": {},
   "source": [
    "1. Cree una clase llamada Individuo . Sus atributos son:\n",
    "PrimerNombre, Edad y RUT. Construye los siguientes métodos para\n",
    "la clase:\n",
    "● Un constructor, donde los datos pueden estar vacíos.\n",
    "● Los setters y getters para cada uno de los atributos. Hay que\n",
    "validar las entradas de datos.\n",
    "● r evel ar ( ) : Revela la información de la persona.\n",
    "● Adul t o ( ) : Entrega un valor lógico sí es o no adulto (mayor de\n",
    "18 años)."
   ]
  },
  {
   "cell_type": "code",
   "execution_count": 1,
   "metadata": {},
   "outputs": [],
   "source": [
    "\n",
    " \n"
   ]
  },
  {
   "cell_type": "code",
   "execution_count": 24,
   "metadata": {},
   "outputs": [
    {
     "name": "stdout",
     "output_type": "stream",
     "text": [
      "PrimerNombre: Gabriel, Edad: 35, RUT: 16.163.631-2\n"
     ]
    }
   ],
   "source": [
    "\n",
    "#Cree una clase llamada Individuo . Sus atributos son: PrimerNombre, Edad y RUT.\n",
    "from dataclasses import dataclass,  field\n",
    "from itertools import cycle\n",
    "\n",
    "\n",
    "\n",
    "\n",
    "\n",
    "@dataclass()\n",
    "class Individuo:\n",
    "    _PrimerNombre:str = field(default_factory=str)\n",
    "    _Edad:int = field(default_factory=int)\n",
    "    _RUT:str = field(default_factory=str)\n",
    "\n",
    "    \n",
    "    def _validarRut(self, rut: str):\n",
    "\n",
    "        rut = rut.upper();\n",
    "        rut = rut.replace(\"-\",\"\")\n",
    "        rut = rut.replace(\".\",\"\")\n",
    "        aux = rut[:-1]\n",
    "        dv = rut[-1:]\n",
    "\n",
    "        revertido = map(int, reversed(str(aux)))\n",
    "        factors = cycle(range(2,8))\n",
    "        s = sum(d * f for d, f in zip(revertido,factors))\n",
    "        res = (-s)%11\n",
    "\n",
    "        if str(res) == dv:\n",
    "            return True\n",
    "\n",
    "        elif dv==\"K\" and res==10:\n",
    "            return True\n",
    "\n",
    "        else:\n",
    "            return False\n",
    "    def adulto(self):\n",
    "        if self._Edad >= 18:\n",
    "            self._es_adulto = True\n",
    "        else:\n",
    "            self._es_adulto = False\n",
    "    \n",
    "    \n",
    "    def set_PrimerNombre(self,PrimerNombre: str):\n",
    "        if PrimerNombre == \"\":\n",
    "            raise ValueError(\"PrimerNombre no puede ser vacio\")\n",
    "        elif PrimerNombre == \" \":\n",
    "            raise ValueError(\"PrimerNombre no puede ser un espacio\")\n",
    "        elif PrimerNombre == None:\n",
    "            raise ValueError(\"PrimerNombre no puede ser nulo\")\n",
    "        elif type(PrimerNombre) != str:\n",
    "            raise ValueError(\"_PrimerNombre no puede ser un numero\")\n",
    "        else:\n",
    "            self._PrimerNombre = PrimerNombre\n",
    "    \n",
    "    def set_Edad(self,Edad):\n",
    "        if Edad >= 123:\n",
    "            raise ValueError(\"Nunca ha existido alguien tan viejo\")\n",
    "        if Edad <= 0:\n",
    "            raise ValueError(\"Edad no puede ser negativa\")\n",
    "        else:\n",
    "            self._Edad = Edad\n",
    "    \n",
    "    def set_RUT(self,RUT):\n",
    "        if self._validarRut(RUT) == False:\n",
    "            raise ValueError(\"RUT no valido\")\n",
    "        else:\n",
    "            self._RUT = RUT\n",
    "            \n",
    "    def get_PrimerNombre(self):\n",
    "        return self._PrimerNombre\n",
    "    \n",
    "    def get_Edad(self):\n",
    "        return self._Edad\n",
    "    \n",
    "    def get_RUT(self):\n",
    "        return self._RUT\n",
    "    \n",
    "    def revelar(self):\n",
    "        print(f\"PrimerNombre: {self._PrimerNombre}, Edad: {self._Edad}, RUT: {self._RUT}\")\n",
    "    \n",
    "            \n",
    "\n",
    "            \n",
    "            \n",
    "            \n",
    "            \n",
    "\n",
    "\n",
    "    \n",
    "\n",
    "\n",
    "juan = Individuo()\n",
    "juan.set_PrimerNombre(\"Gabriel\")\n",
    "juan.set_Edad(35)\n",
    "juan.set_RUT(\"16.163.631-2\")\n",
    "juan.revelar()\n",
    "    \n",
    "\n",
    "\n"
   ]
  },
  {
   "cell_type": "code",
   "execution_count": 15,
   "metadata": {},
   "outputs": [
    {
     "ename": "AttributeError",
     "evalue": "'Individuo' object has no attribute 'set_primerNombre'",
     "output_type": "error",
     "traceback": [
      "\u001b[0;31m---------------------------------------------------------------------------\u001b[0m",
      "\u001b[0;31mAttributeError\u001b[0m                            Traceback (most recent call last)",
      "Cell \u001b[0;32mIn[15], line 3\u001b[0m\n\u001b[1;32m      1\u001b[0m hermano\u001b[39m=\u001b[39mIndividuo()\n\u001b[0;32m----> 3\u001b[0m hermano\u001b[39m.\u001b[39;49mset_primerNombre(\u001b[39m\"\u001b[39m\u001b[39mHermano\u001b[39m\u001b[39m\"\u001b[39m)\n",
      "\u001b[0;31mAttributeError\u001b[0m: 'Individuo' object has no attribute 'set_primerNombre'"
     ]
    }
   ],
   "source": []
  },
  {
   "cell_type": "code",
   "execution_count": null,
   "metadata": {},
   "outputs": [],
   "source": []
  },
  {
   "cell_type": "markdown",
   "metadata": {},
   "source": []
  },
  {
   "cell_type": "code",
   "execution_count": null,
   "metadata": {},
   "outputs": [],
   "source": []
  },
  {
   "cell_type": "markdown",
   "metadata": {},
   "source": []
  },
  {
   "cell_type": "code",
   "execution_count": null,
   "metadata": {},
   "outputs": [],
   "source": []
  },
  {
   "cell_type": "markdown",
   "metadata": {},
   "source": []
  },
  {
   "cell_type": "code",
   "execution_count": null,
   "metadata": {},
   "outputs": [],
   "source": []
  },
  {
   "cell_type": "markdown",
   "metadata": {},
   "source": []
  },
  {
   "cell_type": "code",
   "execution_count": null,
   "metadata": {},
   "outputs": [],
   "source": []
  },
  {
   "cell_type": "markdown",
   "metadata": {},
   "source": []
  }
 ],
 "metadata": {
  "kernelspec": {
   "display_name": ".venv",
   "language": "python",
   "name": "python3"
  },
  "language_info": {
   "codemirror_mode": {
    "name": "ipython",
    "version": 3
   },
   "file_extension": ".py",
   "mimetype": "text/x-python",
   "name": "python",
   "nbconvert_exporter": "python",
   "pygments_lexer": "ipython3",
   "version": "3.10.10"
  },
  "orig_nbformat": 4
 },
 "nbformat": 4,
 "nbformat_minor": 2
}
